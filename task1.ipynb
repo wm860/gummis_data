{
 "cells": [
  {
   "cell_type": "markdown",
   "source": [
    "# ZADANIE 1"
   ],
   "metadata": {
    "collapsed": false
   }
  },
  {
   "cell_type": "markdown",
   "source": [
    "Import potrzebnych bibliotek"
   ],
   "metadata": {
    "collapsed": false
   }
  },
  {
   "cell_type": "code",
   "execution_count": 823,
   "metadata": {
    "collapsed": true
   },
   "outputs": [],
   "source": [
    "import pandas as pd\n",
    "from pathlib import Path\n",
    "from itertools import combinations"
   ]
  },
  {
   "cell_type": "markdown",
   "source": [
    "## Preprocessing danych\n",
    "\n",
    "Wczytanie danych"
   ],
   "metadata": {
    "collapsed": false
   }
  },
  {
   "cell_type": "code",
   "execution_count": 824,
   "outputs": [],
   "source": [
    "df_path = Path('data.csv')\n",
    "pd.set_option(\"display.max_columns\", None)\n",
    "pd.set_option(\"display.max_rows\", 80)\n",
    "df = pd.read_csv(df_path, sep=';')\n",
    "df.columns = df.columns.str.strip()"
   ],
   "metadata": {
    "collapsed": false
   }
  },
  {
   "cell_type": "markdown",
   "source": [
    "Przeglądanie danych, ujednolicenie wartości w kolumnach:"
   ],
   "metadata": {
    "collapsed": false
   }
  },
  {
   "cell_type": "code",
   "execution_count": 825,
   "outputs": [
    {
     "data": {
      "text/plain": "           Zummi       Gruffi       Grammi        Tummi        Sunni  \\\n0    Nie Widział  Nie Widział  Nie Widział  Nie Widział      Widział   \n1        Widział  Nie Widział      Widział      Widział      Widział   \n2        Widział  Nie Widział      Widział  Nie Widział      Widział   \n3    Nie Widział  Nie Widział  Nie Widział      Widział      Widział   \n4        Widział      Widział      Widział  Nie Widział  Nie Widział   \n..           ...          ...          ...          ...          ...   \n995      Widział  Nie Widział      Widział      Widział      Widział   \n996      Widział      Widział  Nie Widział      Widział  Nie Widział   \n997      Widział      Widział  Nie Widział  Nie Widział  Nie Widział   \n998  Nie Widział      Widział      Widział      Widział  Nie Widział   \n999  Nie Widział  Nie Widział      Widział      Widział      Widział   \n\n           Cubbi Sir Thornberry        Gusto       Chummi  Sir Gallant  \n0        Widział    Nie Widział  Nie Widział  Nie Widział  Nie Widział  \n1        Widział    Nie Widział      Widział  Nie Widział      Widział  \n2        Widział        Widział      Widział  Nie Widział      Widział  \n3    Nie Widział    Nie Widział  Nie Widział  Nie Widział  Nie Widział  \n4        Widział    Nie Widział  Nie Widział      Widział      Widział  \n..           ...            ...          ...          ...          ...  \n995  Nie Widział    Nie Widział      Widział      Widział  Nie Widział  \n996  Nie Widział        Widział      Widział  Nie Widział  Nie Widział  \n997      Widział    Nie Widział  Nie Widział      Widział  Nie Widział  \n998  Nie Widział    Nie Widział  Nie Widział  Nie Widział  Nie Widział  \n999      Widział        Widział      Widział  Nie Widział      Widział  \n\n[1000 rows x 10 columns]",
      "text/html": "<div>\n<style scoped>\n    .dataframe tbody tr th:only-of-type {\n        vertical-align: middle;\n    }\n\n    .dataframe tbody tr th {\n        vertical-align: top;\n    }\n\n    .dataframe thead th {\n        text-align: right;\n    }\n</style>\n<table border=\"1\" class=\"dataframe\">\n  <thead>\n    <tr style=\"text-align: right;\">\n      <th></th>\n      <th>Zummi</th>\n      <th>Gruffi</th>\n      <th>Grammi</th>\n      <th>Tummi</th>\n      <th>Sunni</th>\n      <th>Cubbi</th>\n      <th>Sir Thornberry</th>\n      <th>Gusto</th>\n      <th>Chummi</th>\n      <th>Sir Gallant</th>\n    </tr>\n  </thead>\n  <tbody>\n    <tr>\n      <th>0</th>\n      <td>Nie Widział</td>\n      <td>Nie Widział</td>\n      <td>Nie Widział</td>\n      <td>Nie Widział</td>\n      <td>Widział</td>\n      <td>Widział</td>\n      <td>Nie Widział</td>\n      <td>Nie Widział</td>\n      <td>Nie Widział</td>\n      <td>Nie Widział</td>\n    </tr>\n    <tr>\n      <th>1</th>\n      <td>Widział</td>\n      <td>Nie Widział</td>\n      <td>Widział</td>\n      <td>Widział</td>\n      <td>Widział</td>\n      <td>Widział</td>\n      <td>Nie Widział</td>\n      <td>Widział</td>\n      <td>Nie Widział</td>\n      <td>Widział</td>\n    </tr>\n    <tr>\n      <th>2</th>\n      <td>Widział</td>\n      <td>Nie Widział</td>\n      <td>Widział</td>\n      <td>Nie Widział</td>\n      <td>Widział</td>\n      <td>Widział</td>\n      <td>Widział</td>\n      <td>Widział</td>\n      <td>Nie Widział</td>\n      <td>Widział</td>\n    </tr>\n    <tr>\n      <th>3</th>\n      <td>Nie Widział</td>\n      <td>Nie Widział</td>\n      <td>Nie Widział</td>\n      <td>Widział</td>\n      <td>Widział</td>\n      <td>Nie Widział</td>\n      <td>Nie Widział</td>\n      <td>Nie Widział</td>\n      <td>Nie Widział</td>\n      <td>Nie Widział</td>\n    </tr>\n    <tr>\n      <th>4</th>\n      <td>Widział</td>\n      <td>Widział</td>\n      <td>Widział</td>\n      <td>Nie Widział</td>\n      <td>Nie Widział</td>\n      <td>Widział</td>\n      <td>Nie Widział</td>\n      <td>Nie Widział</td>\n      <td>Widział</td>\n      <td>Widział</td>\n    </tr>\n    <tr>\n      <th>...</th>\n      <td>...</td>\n      <td>...</td>\n      <td>...</td>\n      <td>...</td>\n      <td>...</td>\n      <td>...</td>\n      <td>...</td>\n      <td>...</td>\n      <td>...</td>\n      <td>...</td>\n    </tr>\n    <tr>\n      <th>995</th>\n      <td>Widział</td>\n      <td>Nie Widział</td>\n      <td>Widział</td>\n      <td>Widział</td>\n      <td>Widział</td>\n      <td>Nie Widział</td>\n      <td>Nie Widział</td>\n      <td>Widział</td>\n      <td>Widział</td>\n      <td>Nie Widział</td>\n    </tr>\n    <tr>\n      <th>996</th>\n      <td>Widział</td>\n      <td>Widział</td>\n      <td>Nie Widział</td>\n      <td>Widział</td>\n      <td>Nie Widział</td>\n      <td>Nie Widział</td>\n      <td>Widział</td>\n      <td>Widział</td>\n      <td>Nie Widział</td>\n      <td>Nie Widział</td>\n    </tr>\n    <tr>\n      <th>997</th>\n      <td>Widział</td>\n      <td>Widział</td>\n      <td>Nie Widział</td>\n      <td>Nie Widział</td>\n      <td>Nie Widział</td>\n      <td>Widział</td>\n      <td>Nie Widział</td>\n      <td>Nie Widział</td>\n      <td>Widział</td>\n      <td>Nie Widział</td>\n    </tr>\n    <tr>\n      <th>998</th>\n      <td>Nie Widział</td>\n      <td>Widział</td>\n      <td>Widział</td>\n      <td>Widział</td>\n      <td>Nie Widział</td>\n      <td>Nie Widział</td>\n      <td>Nie Widział</td>\n      <td>Nie Widział</td>\n      <td>Nie Widział</td>\n      <td>Nie Widział</td>\n    </tr>\n    <tr>\n      <th>999</th>\n      <td>Nie Widział</td>\n      <td>Nie Widział</td>\n      <td>Widział</td>\n      <td>Widział</td>\n      <td>Widział</td>\n      <td>Widział</td>\n      <td>Widział</td>\n      <td>Widział</td>\n      <td>Nie Widział</td>\n      <td>Widział</td>\n    </tr>\n  </tbody>\n</table>\n<p>1000 rows × 10 columns</p>\n</div>"
     },
     "execution_count": 825,
     "metadata": {},
     "output_type": "execute_result"
    }
   ],
   "source": [
    "df = df.drop(df.columns[0], axis=1)\n",
    "df"
   ],
   "metadata": {
    "collapsed": false
   }
  },
  {
   "cell_type": "code",
   "execution_count": 826,
   "outputs": [
    {
     "name": "stdout",
     "output_type": "stream",
     "text": [
      "Liczba respondentów: 1000\n",
      "Liczba gumisiów: 10\n"
     ]
    }
   ],
   "source": [
    "print(f'Liczba respondentów:', df.shape[0])\n",
    "print(f'Liczba gumisiów:', df.shape[1])"
   ],
   "metadata": {
    "collapsed": false
   }
  },
  {
   "cell_type": "markdown",
   "source": [
    "Nazwy kolumn ramki danych (gumisiów):"
   ],
   "metadata": {
    "collapsed": false
   }
  },
  {
   "cell_type": "code",
   "execution_count": 827,
   "outputs": [
    {
     "data": {
      "text/plain": "['Zummi',\n 'Gruffi',\n 'Grammi',\n 'Tummi',\n 'Sunni',\n 'Cubbi',\n 'Sir Thornberry',\n 'Gusto',\n 'Chummi',\n 'Sir Gallant']"
     },
     "execution_count": 827,
     "metadata": {},
     "output_type": "execute_result"
    }
   ],
   "source": [
    "col_names = df.columns\n",
    "col_names = col_names.to_list()\n",
    "col_names"
   ],
   "metadata": {
    "collapsed": false
   }
  },
  {
   "cell_type": "markdown",
   "source": [
    "Sprawdzenie czy w ramce danych znajdują się puste wartości - czy były przypadki, w których respondenci nie określili czy widzieli reklamę danego gumisia w social mediach, czy też nie:"
   ],
   "metadata": {
    "collapsed": false
   }
  },
  {
   "cell_type": "code",
   "execution_count": 828,
   "outputs": [
    {
     "name": "stdout",
     "output_type": "stream",
     "text": [
      "Brak danych dla następujących gumisiów:  ['Zummi', 'Gruffi', 'Grammi', 'Tummi', 'Sunni', 'Cubbi', 'Sir Thornberry', 'Gusto', 'Chummi', 'Sir Gallant']\n"
     ]
    }
   ],
   "source": [
    "cols_with_nans = df.columns[df.isna().any()].tolist()\n",
    "print(\"Brak danych dla następujących gumisiów: \", cols_with_nans)"
   ],
   "metadata": {
    "collapsed": false
   }
  },
  {
   "cell_type": "markdown",
   "source": [
    "Wypisanie liczby pustych wartości dla poszczególnych gumisiów - tyle respondentów nie określiło czy widziało reklamę danego gumisia w social mediach, czy też nie:"
   ],
   "metadata": {
    "collapsed": false
   }
  },
  {
   "cell_type": "code",
   "execution_count": 829,
   "outputs": [
    {
     "name": "stdout",
     "output_type": "stream",
     "text": [
      "Zummi             16\n",
      "Gruffi            16\n",
      "Grammi            21\n",
      "Tummi             11\n",
      "Sunni             21\n",
      "Cubbi             15\n",
      "Sir Thornberry    15\n",
      "Gusto             13\n",
      "Chummi            18\n",
      "Sir Gallant       14\n",
      "dtype: int64\n"
     ]
    }
   ],
   "source": [
    "print(df.isna().sum())"
   ],
   "metadata": {
    "collapsed": false
   }
  },
  {
   "cell_type": "markdown",
   "source": [
    "Ponieważ w ramce danych znajdują się puste wartości, logicznym podejściem uwzględniającym kontekst zadania jest wypełnienie tych pustych komórek oznaczeniem, że dany respondent nie widział reklamy produktu P1 w social mediach prezentowanego przez danego gumisia."
   ],
   "metadata": {
    "collapsed": false
   }
  },
  {
   "cell_type": "code",
   "execution_count": 830,
   "outputs": [],
   "source": [
    "df = df.fillna('nie')"
   ],
   "metadata": {
    "collapsed": false
   }
  },
  {
   "cell_type": "markdown",
   "source": [
    "Sprawdzenie odpowiedzi respondentów dla poszczególnych gumisiów:"
   ],
   "metadata": {
    "collapsed": false
   }
  },
  {
   "cell_type": "code",
   "execution_count": 831,
   "outputs": [
    {
     "data": {
      "text/plain": "Zummi           Nie Widział  Widział  nie  Widzial  nie widzial  Widzi al  tak\nZummi                   493      419   26       22           18        11   11\nGruffi                  479      428   28       27           28         6    4\nGrammi                  523      378   36       24           25         7    7\nTummi                   502      396   20       29           21        12   20\nSunni                   475      410   33       36           23        12   11\nCubbi                   511      394   21       26           30         8   10\nSir Thornberry          500      383   23       32           30         9   23\nGusto                   512      399   21       24           21        11   12\nChummi                  491      401   28       33           29         6   12\nSir Gallant             486      400   25       38           27        10   14",
      "text/html": "<div>\n<style scoped>\n    .dataframe tbody tr th:only-of-type {\n        vertical-align: middle;\n    }\n\n    .dataframe tbody tr th {\n        vertical-align: top;\n    }\n\n    .dataframe thead th {\n        text-align: right;\n    }\n</style>\n<table border=\"1\" class=\"dataframe\">\n  <thead>\n    <tr style=\"text-align: right;\">\n      <th>Zummi</th>\n      <th>Nie Widział</th>\n      <th>Widział</th>\n      <th>nie</th>\n      <th>Widzial</th>\n      <th>nie widzial</th>\n      <th>Widzi al</th>\n      <th>tak</th>\n    </tr>\n  </thead>\n  <tbody>\n    <tr>\n      <th>Zummi</th>\n      <td>493</td>\n      <td>419</td>\n      <td>26</td>\n      <td>22</td>\n      <td>18</td>\n      <td>11</td>\n      <td>11</td>\n    </tr>\n    <tr>\n      <th>Gruffi</th>\n      <td>479</td>\n      <td>428</td>\n      <td>28</td>\n      <td>27</td>\n      <td>28</td>\n      <td>6</td>\n      <td>4</td>\n    </tr>\n    <tr>\n      <th>Grammi</th>\n      <td>523</td>\n      <td>378</td>\n      <td>36</td>\n      <td>24</td>\n      <td>25</td>\n      <td>7</td>\n      <td>7</td>\n    </tr>\n    <tr>\n      <th>Tummi</th>\n      <td>502</td>\n      <td>396</td>\n      <td>20</td>\n      <td>29</td>\n      <td>21</td>\n      <td>12</td>\n      <td>20</td>\n    </tr>\n    <tr>\n      <th>Sunni</th>\n      <td>475</td>\n      <td>410</td>\n      <td>33</td>\n      <td>36</td>\n      <td>23</td>\n      <td>12</td>\n      <td>11</td>\n    </tr>\n    <tr>\n      <th>Cubbi</th>\n      <td>511</td>\n      <td>394</td>\n      <td>21</td>\n      <td>26</td>\n      <td>30</td>\n      <td>8</td>\n      <td>10</td>\n    </tr>\n    <tr>\n      <th>Sir Thornberry</th>\n      <td>500</td>\n      <td>383</td>\n      <td>23</td>\n      <td>32</td>\n      <td>30</td>\n      <td>9</td>\n      <td>23</td>\n    </tr>\n    <tr>\n      <th>Gusto</th>\n      <td>512</td>\n      <td>399</td>\n      <td>21</td>\n      <td>24</td>\n      <td>21</td>\n      <td>11</td>\n      <td>12</td>\n    </tr>\n    <tr>\n      <th>Chummi</th>\n      <td>491</td>\n      <td>401</td>\n      <td>28</td>\n      <td>33</td>\n      <td>29</td>\n      <td>6</td>\n      <td>12</td>\n    </tr>\n    <tr>\n      <th>Sir Gallant</th>\n      <td>486</td>\n      <td>400</td>\n      <td>25</td>\n      <td>38</td>\n      <td>27</td>\n      <td>10</td>\n      <td>14</td>\n    </tr>\n  </tbody>\n</table>\n</div>"
     },
     "execution_count": 831,
     "metadata": {},
     "output_type": "execute_result"
    }
   ],
   "source": [
    "df_counts = pd.DataFrame()\n",
    "for col in df.columns:\n",
    "    df_counts[col] = df[col].value_counts()\n",
    "\n",
    "df_counts = df_counts.transpose()\n",
    "df_counts"
   ],
   "metadata": {
    "collapsed": false
   }
  },
  {
   "cell_type": "markdown",
   "source": [
    "Zmapowanie odpowiedzi tak, aby były one jednoznaczne:"
   ],
   "metadata": {
    "collapsed": false
   }
  },
  {
   "cell_type": "code",
   "execution_count": 832,
   "outputs": [],
   "source": [
    "df = df.astype(str)\n",
    "\n",
    "def map_values(val):\n",
    "    if 'nie' in val.lower():\n",
    "        return 0\n",
    "    else:\n",
    "        return 1\n",
    "\n",
    "for col in df.columns:\n",
    "  df[col] = df[col].apply(map_values)"
   ],
   "metadata": {
    "collapsed": false
   }
  },
  {
   "cell_type": "markdown",
   "source": [
    "Odpowiednio przygotowane dane wyglądają następująco:\n",
    "\n",
    "gdzie:\n",
    "1 - oznacza, że respondent widział reklamę gumisia w social mediach,\n",
    "0 - oznacza, że respondent nie widział lub brakowało informacji na temat tego, że widział."
   ],
   "metadata": {
    "collapsed": false
   }
  },
  {
   "cell_type": "code",
   "execution_count": 833,
   "outputs": [
    {
     "data": {
      "text/plain": "     Zummi  Gruffi  Grammi  Tummi  Sunni  Cubbi  Sir Thornberry  Gusto  \\\n0        0       0       0      0      1      1               0      0   \n1        1       0       1      1      1      1               0      1   \n2        1       0       1      0      1      1               1      1   \n3        0       0       0      1      1      0               0      0   \n4        1       1       1      0      0      1               0      0   \n..     ...     ...     ...    ...    ...    ...             ...    ...   \n995      1       0       1      1      1      0               0      1   \n996      1       1       0      1      0      0               1      1   \n997      1       1       0      0      0      1               0      0   \n998      0       1       1      1      0      0               0      0   \n999      0       0       1      1      1      1               1      1   \n\n     Chummi  Sir Gallant  \n0         0            0  \n1         0            1  \n2         0            1  \n3         0            0  \n4         1            1  \n..      ...          ...  \n995       1            0  \n996       0            0  \n997       1            0  \n998       0            0  \n999       0            1  \n\n[1000 rows x 10 columns]",
      "text/html": "<div>\n<style scoped>\n    .dataframe tbody tr th:only-of-type {\n        vertical-align: middle;\n    }\n\n    .dataframe tbody tr th {\n        vertical-align: top;\n    }\n\n    .dataframe thead th {\n        text-align: right;\n    }\n</style>\n<table border=\"1\" class=\"dataframe\">\n  <thead>\n    <tr style=\"text-align: right;\">\n      <th></th>\n      <th>Zummi</th>\n      <th>Gruffi</th>\n      <th>Grammi</th>\n      <th>Tummi</th>\n      <th>Sunni</th>\n      <th>Cubbi</th>\n      <th>Sir Thornberry</th>\n      <th>Gusto</th>\n      <th>Chummi</th>\n      <th>Sir Gallant</th>\n    </tr>\n  </thead>\n  <tbody>\n    <tr>\n      <th>0</th>\n      <td>0</td>\n      <td>0</td>\n      <td>0</td>\n      <td>0</td>\n      <td>1</td>\n      <td>1</td>\n      <td>0</td>\n      <td>0</td>\n      <td>0</td>\n      <td>0</td>\n    </tr>\n    <tr>\n      <th>1</th>\n      <td>1</td>\n      <td>0</td>\n      <td>1</td>\n      <td>1</td>\n      <td>1</td>\n      <td>1</td>\n      <td>0</td>\n      <td>1</td>\n      <td>0</td>\n      <td>1</td>\n    </tr>\n    <tr>\n      <th>2</th>\n      <td>1</td>\n      <td>0</td>\n      <td>1</td>\n      <td>0</td>\n      <td>1</td>\n      <td>1</td>\n      <td>1</td>\n      <td>1</td>\n      <td>0</td>\n      <td>1</td>\n    </tr>\n    <tr>\n      <th>3</th>\n      <td>0</td>\n      <td>0</td>\n      <td>0</td>\n      <td>1</td>\n      <td>1</td>\n      <td>0</td>\n      <td>0</td>\n      <td>0</td>\n      <td>0</td>\n      <td>0</td>\n    </tr>\n    <tr>\n      <th>4</th>\n      <td>1</td>\n      <td>1</td>\n      <td>1</td>\n      <td>0</td>\n      <td>0</td>\n      <td>1</td>\n      <td>0</td>\n      <td>0</td>\n      <td>1</td>\n      <td>1</td>\n    </tr>\n    <tr>\n      <th>...</th>\n      <td>...</td>\n      <td>...</td>\n      <td>...</td>\n      <td>...</td>\n      <td>...</td>\n      <td>...</td>\n      <td>...</td>\n      <td>...</td>\n      <td>...</td>\n      <td>...</td>\n    </tr>\n    <tr>\n      <th>995</th>\n      <td>1</td>\n      <td>0</td>\n      <td>1</td>\n      <td>1</td>\n      <td>1</td>\n      <td>0</td>\n      <td>0</td>\n      <td>1</td>\n      <td>1</td>\n      <td>0</td>\n    </tr>\n    <tr>\n      <th>996</th>\n      <td>1</td>\n      <td>1</td>\n      <td>0</td>\n      <td>1</td>\n      <td>0</td>\n      <td>0</td>\n      <td>1</td>\n      <td>1</td>\n      <td>0</td>\n      <td>0</td>\n    </tr>\n    <tr>\n      <th>997</th>\n      <td>1</td>\n      <td>1</td>\n      <td>0</td>\n      <td>0</td>\n      <td>0</td>\n      <td>1</td>\n      <td>0</td>\n      <td>0</td>\n      <td>1</td>\n      <td>0</td>\n    </tr>\n    <tr>\n      <th>998</th>\n      <td>0</td>\n      <td>1</td>\n      <td>1</td>\n      <td>1</td>\n      <td>0</td>\n      <td>0</td>\n      <td>0</td>\n      <td>0</td>\n      <td>0</td>\n      <td>0</td>\n    </tr>\n    <tr>\n      <th>999</th>\n      <td>0</td>\n      <td>0</td>\n      <td>1</td>\n      <td>1</td>\n      <td>1</td>\n      <td>1</td>\n      <td>1</td>\n      <td>1</td>\n      <td>0</td>\n      <td>1</td>\n    </tr>\n  </tbody>\n</table>\n<p>1000 rows × 10 columns</p>\n</div>"
     },
     "execution_count": 833,
     "metadata": {},
     "output_type": "execute_result"
    }
   ],
   "source": [
    "df"
   ],
   "metadata": {
    "collapsed": false
   }
  },
  {
   "cell_type": "markdown",
   "source": [
    "## Właściwa analiza danych"
   ],
   "metadata": {
    "collapsed": false
   }
  },
  {
   "cell_type": "markdown",
   "source": [
    "### Analiza gumisiów z osobna\n",
    "\n",
    "Zasięg każdego z gumisiów - ile respondetów widziało reklamę danego gumisia w social mediach:"
   ],
   "metadata": {
    "collapsed": false
   }
  },
  {
   "cell_type": "code",
   "execution_count": 834,
   "outputs": [
    {
     "data": {
      "text/plain": "                1  Zasięg  popularność\n0           Sunni     469         46.9\n1          Gruffi     465         46.5\n2           Zummi     463         46.3\n3     Sir Gallant     462         46.2\n4           Tummi     457         45.7\n5          Chummi     452         45.2\n6  Sir Thornberry     447         44.7\n7           Gusto     446         44.6\n8           Cubbi     438         43.8\n9          Grammi     416         41.6",
      "text/html": "<div>\n<style scoped>\n    .dataframe tbody tr th:only-of-type {\n        vertical-align: middle;\n    }\n\n    .dataframe tbody tr th {\n        vertical-align: top;\n    }\n\n    .dataframe thead th {\n        text-align: right;\n    }\n</style>\n<table border=\"1\" class=\"dataframe\">\n  <thead>\n    <tr style=\"text-align: right;\">\n      <th></th>\n      <th>1</th>\n      <th>Zasięg</th>\n      <th>popularność</th>\n    </tr>\n  </thead>\n  <tbody>\n    <tr>\n      <th>0</th>\n      <td>Sunni</td>\n      <td>469</td>\n      <td>46.9</td>\n    </tr>\n    <tr>\n      <th>1</th>\n      <td>Gruffi</td>\n      <td>465</td>\n      <td>46.5</td>\n    </tr>\n    <tr>\n      <th>2</th>\n      <td>Zummi</td>\n      <td>463</td>\n      <td>46.3</td>\n    </tr>\n    <tr>\n      <th>3</th>\n      <td>Sir Gallant</td>\n      <td>462</td>\n      <td>46.2</td>\n    </tr>\n    <tr>\n      <th>4</th>\n      <td>Tummi</td>\n      <td>457</td>\n      <td>45.7</td>\n    </tr>\n    <tr>\n      <th>5</th>\n      <td>Chummi</td>\n      <td>452</td>\n      <td>45.2</td>\n    </tr>\n    <tr>\n      <th>6</th>\n      <td>Sir Thornberry</td>\n      <td>447</td>\n      <td>44.7</td>\n    </tr>\n    <tr>\n      <th>7</th>\n      <td>Gusto</td>\n      <td>446</td>\n      <td>44.6</td>\n    </tr>\n    <tr>\n      <th>8</th>\n      <td>Cubbi</td>\n      <td>438</td>\n      <td>43.8</td>\n    </tr>\n    <tr>\n      <th>9</th>\n      <td>Grammi</td>\n      <td>416</td>\n      <td>41.6</td>\n    </tr>\n  </tbody>\n</table>\n</div>"
     },
     "execution_count": 834,
     "metadata": {},
     "output_type": "execute_result"
    }
   ],
   "source": [
    "gummis_dict = {}\n",
    "\n",
    "for col in df.columns:\n",
    "    gummis_dict[col] = df[col].sum()\n",
    "\n",
    "gummis_list = list(gummis_dict.items())\n",
    "sorted_gummis_list = sorted(gummis_list, key=lambda x: x[1], reverse=True)\n",
    "\n",
    "df_combinations1= pd.DataFrame(sorted_gummis_list, columns=['1', 'Zasięg'])\n",
    "df_combinations1['popularność'] = df_combinations1['Zasięg'] / df.shape[0] * 100\n",
    "df_combinations1"
   ],
   "metadata": {
    "collapsed": false
   }
  },
  {
   "cell_type": "code",
   "execution_count": 835,
   "outputs": [
    {
     "name": "stdout",
     "output_type": "stream",
     "text": [
      "Rozpoznawalność najpopularniejszego gumisia [%] ->  46.9\n",
      "Rozpoznawalność najmniej popularnego gumisia [%] -> 41.6\n",
      "Wzgledna różnica rozpoznawalności [%] -> 12.740384615384615\n"
     ]
    }
   ],
   "source": [
    "max_value = max(gummis_dict.values())\n",
    "min_value = min(gummis_dict.values())\n",
    "difference_percentage = ((max_value - min_value) / min_value) * 100\n",
    "\n",
    "print(f'Rozpoznawalność najpopularniejszego gumisia [%] -> ', max_value/df.shape[0]*100)\n",
    "print(f'Rozpoznawalność najmniej popularnego gumisia [%] ->', min_value/df.shape[0]*100)\n",
    "print(f'Wzgledna różnica rozpoznawalności [%] ->', difference_percentage)"
   ],
   "metadata": {
    "collapsed": false
   }
  },
  {
   "cell_type": "markdown",
   "source": [
    "Analiza rozwarzająca każdego gumisia osobno na podstwawie wywiadów z respondentami wykazuje, że każdy z gumisiów posiada zbliżoną popularność zgodnie z opiniami respondentów. ponieważ gumiś najgorzej rozpoznawalny jest o niespełna 13% rzadziej widziany od gumisia najbardziej popularnego."
   ],
   "metadata": {
    "collapsed": false
   }
  },
  {
   "cell_type": "markdown",
   "source": [
    "Rozpatrując gumisie niezależnie od siebie, do promocji produktu P2 należałoby wybrać następujących gumisiów (niezalecane podejście):"
   ],
   "metadata": {
    "collapsed": false
   }
  },
  {
   "cell_type": "code",
   "execution_count": 836,
   "outputs": [
    {
     "name": "stdout",
     "output_type": "stream",
     "text": [
      "Sunni\n",
      "Gruffi\n",
      "Zummi\n",
      "Sir Gallant\n",
      "Tummi\n"
     ]
    }
   ],
   "source": [
    "for gummi in sorted_gummis_list[:5]:\n",
    "    print(gummi[0])"
   ],
   "metadata": {
    "collapsed": false
   }
  },
  {
   "cell_type": "markdown",
   "source": [
    "### Analiza gumisiów z uwzględnieniem zależności między nimi"
   ],
   "metadata": {
    "collapsed": false
   }
  },
  {
   "cell_type": "markdown",
   "source": [
    "Ponieważ ostatecznie zależy nam na wyborze gumisiów, które będą łącznie dawać najlepsze zasięgi w ramach promocji produktu P2, warto przy wyborze grupy gumisiów postarać się uniknąć takiej sytuacji, że 2 wybrane gumisie będą dawały takie same zasięgi u tych samych potencjalnych klientów. Warto, aby obszary działań się nie pokrywały, a sumowały.\n",
    "\n",
    "Ponieważ problem nie jest duży - do wyboru jest maksymalnie 5 z 10 gumisiów, można zastosować metodę brute-force, która pozwoli na znalezienie najlepszej kombinacji gumisiów. Liczba kombinacji wynosi 10 * 9 * 8 * 7 * 6 / 5! czyli 252, co jest akceptowalną liczbą do przetestowania.\n",
    "\n",
    "Policzona zostanie zatem kombinacja gumisiów połączonych w grupach 2, 3, 4, 5 osobowych, które to dały największe zasięgi. W zależności od budżetu klient wybierze ilu osobowa grupa gumisiów będzie promować produkt P2, zakładając, że zasięgi się nie zmienią dla nowego produktu."
   ],
   "metadata": {
    "collapsed": false
   }
  },
  {
   "cell_type": "code",
   "execution_count": 837,
   "outputs": [
    {
     "name": "stdout",
     "output_type": "stream",
     "text": [
      "Lista możliwych kombinacji wyboru gumisiów przykładowo dla wyboru 2 gumisiów: \n",
      "('Zummi', 'Gruffi')\n",
      "('Zummi', 'Grammi')\n",
      "('Zummi', 'Tummi')\n",
      "('Zummi', 'Sunni')\n",
      "('Zummi', 'Cubbi')\n",
      "('Zummi', 'Sir Thornberry')\n",
      "('Zummi', 'Gusto')\n",
      "('Zummi', 'Chummi')\n",
      "('Zummi', 'Sir Gallant')\n",
      "('Gruffi', 'Grammi')\n",
      "('Gruffi', 'Tummi')\n",
      "('Gruffi', 'Sunni')\n",
      "('Gruffi', 'Cubbi')\n",
      "('Gruffi', 'Sir Thornberry')\n",
      "('Gruffi', 'Gusto')\n",
      "('Gruffi', 'Chummi')\n",
      "('Gruffi', 'Sir Gallant')\n",
      "('Grammi', 'Tummi')\n",
      "('Grammi', 'Sunni')\n",
      "('Grammi', 'Cubbi')\n",
      "('Grammi', 'Sir Thornberry')\n",
      "('Grammi', 'Gusto')\n",
      "('Grammi', 'Chummi')\n",
      "('Grammi', 'Sir Gallant')\n",
      "('Tummi', 'Sunni')\n",
      "('Tummi', 'Cubbi')\n",
      "('Tummi', 'Sir Thornberry')\n",
      "('Tummi', 'Gusto')\n",
      "('Tummi', 'Chummi')\n",
      "('Tummi', 'Sir Gallant')\n",
      "('Sunni', 'Cubbi')\n",
      "('Sunni', 'Sir Thornberry')\n",
      "('Sunni', 'Gusto')\n",
      "('Sunni', 'Chummi')\n",
      "('Sunni', 'Sir Gallant')\n",
      "('Cubbi', 'Sir Thornberry')\n",
      "('Cubbi', 'Gusto')\n",
      "('Cubbi', 'Chummi')\n",
      "('Cubbi', 'Sir Gallant')\n",
      "('Sir Thornberry', 'Gusto')\n",
      "('Sir Thornberry', 'Chummi')\n",
      "('Sir Thornberry', 'Sir Gallant')\n",
      "('Gusto', 'Chummi')\n",
      "('Gusto', 'Sir Gallant')\n",
      "('Chummi', 'Sir Gallant')\n"
     ]
    }
   ],
   "source": [
    "column_names = df.columns.tolist()\n",
    "combinations2 = list(combinations(column_names, 2))\n",
    "combinations3 = list(combinations(column_names, 3))\n",
    "combinations4 = list(combinations(column_names, 4))\n",
    "combinations5 = list(combinations(column_names, 5))\n",
    "print(\"Lista możliwych kombinacji wyboru gumisiów przykładowo dla wyboru 2 gumisiów: \")\n",
    "for combo in combinations2:\n",
    "    print(combo)"
   ],
   "metadata": {
    "collapsed": false
   }
  },
  {
   "cell_type": "code",
   "execution_count": 838,
   "outputs": [
    {
     "data": {
      "text/plain": "                 1               2  zeros  popularność\n0            Zummi          Gruffi   1000          0.0\n1            Zummi          Grammi   1000          0.0\n2            Zummi           Tummi   1000          0.0\n3            Zummi           Sunni   1000          0.0\n4            Zummi           Cubbi   1000          0.0\n5            Zummi  Sir Thornberry   1000          0.0\n6            Zummi           Gusto   1000          0.0\n7            Zummi          Chummi   1000          0.0\n8            Zummi     Sir Gallant   1000          0.0\n9           Gruffi          Grammi   1000          0.0\n10          Gruffi           Tummi   1000          0.0\n11          Gruffi           Sunni   1000          0.0\n12          Gruffi           Cubbi   1000          0.0\n13          Gruffi  Sir Thornberry   1000          0.0\n14          Gruffi           Gusto   1000          0.0\n15          Gruffi          Chummi   1000          0.0\n16          Gruffi     Sir Gallant   1000          0.0\n17          Grammi           Tummi   1000          0.0\n18          Grammi           Sunni   1000          0.0\n19          Grammi           Cubbi   1000          0.0\n20          Grammi  Sir Thornberry   1000          0.0\n21          Grammi           Gusto   1000          0.0\n22          Grammi          Chummi   1000          0.0\n23          Grammi     Sir Gallant   1000          0.0\n24           Tummi           Sunni   1000          0.0\n25           Tummi           Cubbi   1000          0.0\n26           Tummi  Sir Thornberry   1000          0.0\n27           Tummi           Gusto   1000          0.0\n28           Tummi          Chummi   1000          0.0\n29           Tummi     Sir Gallant   1000          0.0\n30           Sunni           Cubbi   1000          0.0\n31           Sunni  Sir Thornberry   1000          0.0\n32           Sunni           Gusto   1000          0.0\n33           Sunni          Chummi   1000          0.0\n34           Sunni     Sir Gallant   1000          0.0\n35           Cubbi  Sir Thornberry   1000          0.0\n36           Cubbi           Gusto   1000          0.0\n37           Cubbi          Chummi   1000          0.0\n38           Cubbi     Sir Gallant   1000          0.0\n39  Sir Thornberry           Gusto   1000          0.0\n40  Sir Thornberry          Chummi   1000          0.0\n41  Sir Thornberry     Sir Gallant   1000          0.0\n42           Gusto          Chummi   1000          0.0\n43           Gusto     Sir Gallant   1000          0.0\n44          Chummi     Sir Gallant   1000          0.0",
      "text/html": "<div>\n<style scoped>\n    .dataframe tbody tr th:only-of-type {\n        vertical-align: middle;\n    }\n\n    .dataframe tbody tr th {\n        vertical-align: top;\n    }\n\n    .dataframe thead th {\n        text-align: right;\n    }\n</style>\n<table border=\"1\" class=\"dataframe\">\n  <thead>\n    <tr style=\"text-align: right;\">\n      <th></th>\n      <th>1</th>\n      <th>2</th>\n      <th>zeros</th>\n      <th>popularność</th>\n    </tr>\n  </thead>\n  <tbody>\n    <tr>\n      <th>0</th>\n      <td>Zummi</td>\n      <td>Gruffi</td>\n      <td>1000</td>\n      <td>0.0</td>\n    </tr>\n    <tr>\n      <th>1</th>\n      <td>Zummi</td>\n      <td>Grammi</td>\n      <td>1000</td>\n      <td>0.0</td>\n    </tr>\n    <tr>\n      <th>2</th>\n      <td>Zummi</td>\n      <td>Tummi</td>\n      <td>1000</td>\n      <td>0.0</td>\n    </tr>\n    <tr>\n      <th>3</th>\n      <td>Zummi</td>\n      <td>Sunni</td>\n      <td>1000</td>\n      <td>0.0</td>\n    </tr>\n    <tr>\n      <th>4</th>\n      <td>Zummi</td>\n      <td>Cubbi</td>\n      <td>1000</td>\n      <td>0.0</td>\n    </tr>\n    <tr>\n      <th>5</th>\n      <td>Zummi</td>\n      <td>Sir Thornberry</td>\n      <td>1000</td>\n      <td>0.0</td>\n    </tr>\n    <tr>\n      <th>6</th>\n      <td>Zummi</td>\n      <td>Gusto</td>\n      <td>1000</td>\n      <td>0.0</td>\n    </tr>\n    <tr>\n      <th>7</th>\n      <td>Zummi</td>\n      <td>Chummi</td>\n      <td>1000</td>\n      <td>0.0</td>\n    </tr>\n    <tr>\n      <th>8</th>\n      <td>Zummi</td>\n      <td>Sir Gallant</td>\n      <td>1000</td>\n      <td>0.0</td>\n    </tr>\n    <tr>\n      <th>9</th>\n      <td>Gruffi</td>\n      <td>Grammi</td>\n      <td>1000</td>\n      <td>0.0</td>\n    </tr>\n    <tr>\n      <th>10</th>\n      <td>Gruffi</td>\n      <td>Tummi</td>\n      <td>1000</td>\n      <td>0.0</td>\n    </tr>\n    <tr>\n      <th>11</th>\n      <td>Gruffi</td>\n      <td>Sunni</td>\n      <td>1000</td>\n      <td>0.0</td>\n    </tr>\n    <tr>\n      <th>12</th>\n      <td>Gruffi</td>\n      <td>Cubbi</td>\n      <td>1000</td>\n      <td>0.0</td>\n    </tr>\n    <tr>\n      <th>13</th>\n      <td>Gruffi</td>\n      <td>Sir Thornberry</td>\n      <td>1000</td>\n      <td>0.0</td>\n    </tr>\n    <tr>\n      <th>14</th>\n      <td>Gruffi</td>\n      <td>Gusto</td>\n      <td>1000</td>\n      <td>0.0</td>\n    </tr>\n    <tr>\n      <th>15</th>\n      <td>Gruffi</td>\n      <td>Chummi</td>\n      <td>1000</td>\n      <td>0.0</td>\n    </tr>\n    <tr>\n      <th>16</th>\n      <td>Gruffi</td>\n      <td>Sir Gallant</td>\n      <td>1000</td>\n      <td>0.0</td>\n    </tr>\n    <tr>\n      <th>17</th>\n      <td>Grammi</td>\n      <td>Tummi</td>\n      <td>1000</td>\n      <td>0.0</td>\n    </tr>\n    <tr>\n      <th>18</th>\n      <td>Grammi</td>\n      <td>Sunni</td>\n      <td>1000</td>\n      <td>0.0</td>\n    </tr>\n    <tr>\n      <th>19</th>\n      <td>Grammi</td>\n      <td>Cubbi</td>\n      <td>1000</td>\n      <td>0.0</td>\n    </tr>\n    <tr>\n      <th>20</th>\n      <td>Grammi</td>\n      <td>Sir Thornberry</td>\n      <td>1000</td>\n      <td>0.0</td>\n    </tr>\n    <tr>\n      <th>21</th>\n      <td>Grammi</td>\n      <td>Gusto</td>\n      <td>1000</td>\n      <td>0.0</td>\n    </tr>\n    <tr>\n      <th>22</th>\n      <td>Grammi</td>\n      <td>Chummi</td>\n      <td>1000</td>\n      <td>0.0</td>\n    </tr>\n    <tr>\n      <th>23</th>\n      <td>Grammi</td>\n      <td>Sir Gallant</td>\n      <td>1000</td>\n      <td>0.0</td>\n    </tr>\n    <tr>\n      <th>24</th>\n      <td>Tummi</td>\n      <td>Sunni</td>\n      <td>1000</td>\n      <td>0.0</td>\n    </tr>\n    <tr>\n      <th>25</th>\n      <td>Tummi</td>\n      <td>Cubbi</td>\n      <td>1000</td>\n      <td>0.0</td>\n    </tr>\n    <tr>\n      <th>26</th>\n      <td>Tummi</td>\n      <td>Sir Thornberry</td>\n      <td>1000</td>\n      <td>0.0</td>\n    </tr>\n    <tr>\n      <th>27</th>\n      <td>Tummi</td>\n      <td>Gusto</td>\n      <td>1000</td>\n      <td>0.0</td>\n    </tr>\n    <tr>\n      <th>28</th>\n      <td>Tummi</td>\n      <td>Chummi</td>\n      <td>1000</td>\n      <td>0.0</td>\n    </tr>\n    <tr>\n      <th>29</th>\n      <td>Tummi</td>\n      <td>Sir Gallant</td>\n      <td>1000</td>\n      <td>0.0</td>\n    </tr>\n    <tr>\n      <th>30</th>\n      <td>Sunni</td>\n      <td>Cubbi</td>\n      <td>1000</td>\n      <td>0.0</td>\n    </tr>\n    <tr>\n      <th>31</th>\n      <td>Sunni</td>\n      <td>Sir Thornberry</td>\n      <td>1000</td>\n      <td>0.0</td>\n    </tr>\n    <tr>\n      <th>32</th>\n      <td>Sunni</td>\n      <td>Gusto</td>\n      <td>1000</td>\n      <td>0.0</td>\n    </tr>\n    <tr>\n      <th>33</th>\n      <td>Sunni</td>\n      <td>Chummi</td>\n      <td>1000</td>\n      <td>0.0</td>\n    </tr>\n    <tr>\n      <th>34</th>\n      <td>Sunni</td>\n      <td>Sir Gallant</td>\n      <td>1000</td>\n      <td>0.0</td>\n    </tr>\n    <tr>\n      <th>35</th>\n      <td>Cubbi</td>\n      <td>Sir Thornberry</td>\n      <td>1000</td>\n      <td>0.0</td>\n    </tr>\n    <tr>\n      <th>36</th>\n      <td>Cubbi</td>\n      <td>Gusto</td>\n      <td>1000</td>\n      <td>0.0</td>\n    </tr>\n    <tr>\n      <th>37</th>\n      <td>Cubbi</td>\n      <td>Chummi</td>\n      <td>1000</td>\n      <td>0.0</td>\n    </tr>\n    <tr>\n      <th>38</th>\n      <td>Cubbi</td>\n      <td>Sir Gallant</td>\n      <td>1000</td>\n      <td>0.0</td>\n    </tr>\n    <tr>\n      <th>39</th>\n      <td>Sir Thornberry</td>\n      <td>Gusto</td>\n      <td>1000</td>\n      <td>0.0</td>\n    </tr>\n    <tr>\n      <th>40</th>\n      <td>Sir Thornberry</td>\n      <td>Chummi</td>\n      <td>1000</td>\n      <td>0.0</td>\n    </tr>\n    <tr>\n      <th>41</th>\n      <td>Sir Thornberry</td>\n      <td>Sir Gallant</td>\n      <td>1000</td>\n      <td>0.0</td>\n    </tr>\n    <tr>\n      <th>42</th>\n      <td>Gusto</td>\n      <td>Chummi</td>\n      <td>1000</td>\n      <td>0.0</td>\n    </tr>\n    <tr>\n      <th>43</th>\n      <td>Gusto</td>\n      <td>Sir Gallant</td>\n      <td>1000</td>\n      <td>0.0</td>\n    </tr>\n    <tr>\n      <th>44</th>\n      <td>Chummi</td>\n      <td>Sir Gallant</td>\n      <td>1000</td>\n      <td>0.0</td>\n    </tr>\n  </tbody>\n</table>\n</div>"
     },
     "execution_count": 838,
     "metadata": {},
     "output_type": "execute_result"
    }
   ],
   "source": [
    "column_names2 = [str(i) for i in range(1, 3)]\n",
    "column_names3 = [str(i) for i in range(1, 4)]\n",
    "column_names4 = [str(i) for i in range(1, 5)]\n",
    "column_names5 = [str(i) for i in range(1, 6)]\n",
    "df_combinations2 = pd.DataFrame(combinations2, columns=column_names2)\n",
    "df_combinations3 = pd.DataFrame(combinations3, columns=column_names3)\n",
    "df_combinations4 = pd.DataFrame(combinations4, columns=column_names4)\n",
    "df_combinations5 = pd.DataFrame(combinations5, columns=column_names5)\n",
    "df_combinations2['zeros'] = 1000 # na początku zakładamy, że każda kombinacja gumisiów dała 0 zasięgów\n",
    "df_combinations3['zeros'] = 1000\n",
    "df_combinations4['zeros'] = 1000\n",
    "df_combinations5['zeros'] = 1000\n",
    "df_combinations2['popularność'] = 0\n",
    "df_combinations3['popularność'] = 0\n",
    "df_combinations4['popularność'] = 0\n",
    "df_combinations5['popularność'] = 0\n",
    "df_combinations2['popularność'] = df_combinations2['popularność'].astype(float)\n",
    "df_combinations3['popularność'] = df_combinations3['popularność'].astype(float)\n",
    "df_combinations4['popularność'] = df_combinations4['popularność'].astype(float)\n",
    "df_combinations5['popularność'] = df_combinations5['popularność'].astype(float)\n",
    "df_combinations2"
   ],
   "metadata": {
    "collapsed": false
   }
  },
  {
   "cell_type": "code",
   "execution_count": 839,
   "outputs": [],
   "source": [
    "for index, row in df_combinations2.iterrows():\n",
    "    a = df[row['1']] + df[row['2']]\n",
    "    df_combinations2.at[index, 'zeros'] = a[a == 0].count()\n",
    "    df_combinations2.at[index, 'popularność'] = float((1-df_combinations2.at[index, 'zeros'] / df.shape[0]) * 100)\n",
    "df_combinations2 = df_combinations2.sort_values(by='zeros', ascending=True)\n",
    "\n",
    "\n",
    "for index, row in df_combinations3.iterrows():\n",
    "    b = df[row['1']] + df[row['2']] + df[row['3']]\n",
    "    df_combinations3.at[index, 'zeros'] = b[b == 0].count()\n",
    "    df_combinations3.at[index, 'popularność'] = float((1-df_combinations3.at[index, 'zeros'] / df.shape[0]) * 100)\n",
    "df_combinations3 = df_combinations3.sort_values(by='zeros', ascending=True)\n",
    "\n",
    "\n",
    "for index, row in df_combinations4.iterrows():\n",
    "    c = df[row['1']] + df[row['2']] + df[row['3']] + df[row['4']]\n",
    "    df_combinations4.at[index, 'zeros'] = c[c == 0].count()\n",
    "    df_combinations4.at[index, 'popularność'] = float((1-df_combinations4.at[index, 'zeros'] / df.shape[0]) * 100)\n",
    "df_combinations4 = df_combinations4.sort_values(by='zeros', ascending=True)\n",
    "\n",
    "for index, row in df_combinations5.iterrows():\n",
    "    d = df[row['1']] + df[row['2']] + df[row['3']] + df[row['4']] + df[row['5']]\n",
    "    df_combinations5.at[index, 'zeros'] = d[d == 0].count()\n",
    "    df_combinations5.at[index, 'popularność'] = float((1-df_combinations5.at[index, 'zeros'] / df.shape[0]) * 100)\n",
    "df_combinations5 = df_combinations5.sort_values(by='zeros', ascending=True)"
   ],
   "metadata": {
    "collapsed": false
   }
  },
  {
   "cell_type": "markdown",
   "source": [
    "Posegregowane kombinacje gumisiów w kolejności od najlepszych do najgorszych. Kolumna z opisem \"zeros\" oznacza liczbę respondentów, którzy nie widzieli żadnego z gumisiów z danej kombinacji w social mediach.\n",
    "\n",
    "Dane dla poszczególnych sekswencji 2 gumisiów:"
   ],
   "metadata": {
    "collapsed": false
   }
  },
  {
   "cell_type": "code",
   "execution_count": 840,
   "outputs": [
    {
     "data": {
      "text/plain": "                 1               2  zeros  popularność\n2            Zummi           Tummi    273         72.7\n0            Zummi          Gruffi    279         72.1\n10          Gruffi           Tummi    280         72.0\n3            Zummi           Sunni    283         71.7\n11          Gruffi           Sunni    283         71.7\n34           Sunni     Sir Gallant    286         71.4\n24           Tummi           Sunni    287         71.3\n7            Zummi          Chummi    290         71.0\n5            Zummi  Sir Thornberry    292         70.8\n44          Chummi     Sir Gallant    294         70.6\n27           Tummi           Gusto    295         70.5\n30           Sunni           Cubbi    295         70.5\n32           Sunni           Gusto    296         70.4\n25           Tummi           Cubbi    296         70.4\n16          Gruffi     Sir Gallant    297         70.3\n8            Zummi     Sir Gallant    297         70.3\n14          Gruffi           Gusto    297         70.3\n29           Tummi     Sir Gallant    299         70.1\n31           Sunni  Sir Thornberry    300         70.0\n43           Gusto     Sir Gallant    300         70.0\n12          Gruffi           Cubbi    300         70.0\n28           Tummi          Chummi    301         69.9\n33           Sunni          Chummi    301         69.9\n13          Gruffi  Sir Thornberry    302         69.8\n15          Gruffi          Chummi    302         69.8\n41  Sir Thornberry     Sir Gallant    303         69.7\n39  Sir Thornberry           Gusto    303         69.7\n4            Zummi           Cubbi    304         69.6\n37           Cubbi          Chummi    305         69.5\n6            Zummi           Gusto    307         69.3\n42           Gusto          Chummi    308         69.2\n26           Tummi  Sir Thornberry    309         69.1\n36           Cubbi           Gusto    309         69.1\n40  Sir Thornberry          Chummi    310         69.0\n38           Cubbi     Sir Gallant    311         68.9\n35           Cubbi  Sir Thornberry    311         68.9\n23          Grammi     Sir Gallant    316         68.4\n22          Grammi          Chummi    318         68.2\n17          Grammi           Tummi    319         68.1\n1            Zummi          Grammi    319         68.1\n18          Grammi           Sunni    322         67.8\n20          Grammi  Sir Thornberry    325         67.5\n9           Gruffi          Grammi    328         67.2\n21          Grammi           Gusto    330         67.0\n19          Grammi           Cubbi    345         65.5",
      "text/html": "<div>\n<style scoped>\n    .dataframe tbody tr th:only-of-type {\n        vertical-align: middle;\n    }\n\n    .dataframe tbody tr th {\n        vertical-align: top;\n    }\n\n    .dataframe thead th {\n        text-align: right;\n    }\n</style>\n<table border=\"1\" class=\"dataframe\">\n  <thead>\n    <tr style=\"text-align: right;\">\n      <th></th>\n      <th>1</th>\n      <th>2</th>\n      <th>zeros</th>\n      <th>popularność</th>\n    </tr>\n  </thead>\n  <tbody>\n    <tr>\n      <th>2</th>\n      <td>Zummi</td>\n      <td>Tummi</td>\n      <td>273</td>\n      <td>72.7</td>\n    </tr>\n    <tr>\n      <th>0</th>\n      <td>Zummi</td>\n      <td>Gruffi</td>\n      <td>279</td>\n      <td>72.1</td>\n    </tr>\n    <tr>\n      <th>10</th>\n      <td>Gruffi</td>\n      <td>Tummi</td>\n      <td>280</td>\n      <td>72.0</td>\n    </tr>\n    <tr>\n      <th>3</th>\n      <td>Zummi</td>\n      <td>Sunni</td>\n      <td>283</td>\n      <td>71.7</td>\n    </tr>\n    <tr>\n      <th>11</th>\n      <td>Gruffi</td>\n      <td>Sunni</td>\n      <td>283</td>\n      <td>71.7</td>\n    </tr>\n    <tr>\n      <th>34</th>\n      <td>Sunni</td>\n      <td>Sir Gallant</td>\n      <td>286</td>\n      <td>71.4</td>\n    </tr>\n    <tr>\n      <th>24</th>\n      <td>Tummi</td>\n      <td>Sunni</td>\n      <td>287</td>\n      <td>71.3</td>\n    </tr>\n    <tr>\n      <th>7</th>\n      <td>Zummi</td>\n      <td>Chummi</td>\n      <td>290</td>\n      <td>71.0</td>\n    </tr>\n    <tr>\n      <th>5</th>\n      <td>Zummi</td>\n      <td>Sir Thornberry</td>\n      <td>292</td>\n      <td>70.8</td>\n    </tr>\n    <tr>\n      <th>44</th>\n      <td>Chummi</td>\n      <td>Sir Gallant</td>\n      <td>294</td>\n      <td>70.6</td>\n    </tr>\n    <tr>\n      <th>27</th>\n      <td>Tummi</td>\n      <td>Gusto</td>\n      <td>295</td>\n      <td>70.5</td>\n    </tr>\n    <tr>\n      <th>30</th>\n      <td>Sunni</td>\n      <td>Cubbi</td>\n      <td>295</td>\n      <td>70.5</td>\n    </tr>\n    <tr>\n      <th>32</th>\n      <td>Sunni</td>\n      <td>Gusto</td>\n      <td>296</td>\n      <td>70.4</td>\n    </tr>\n    <tr>\n      <th>25</th>\n      <td>Tummi</td>\n      <td>Cubbi</td>\n      <td>296</td>\n      <td>70.4</td>\n    </tr>\n    <tr>\n      <th>16</th>\n      <td>Gruffi</td>\n      <td>Sir Gallant</td>\n      <td>297</td>\n      <td>70.3</td>\n    </tr>\n    <tr>\n      <th>8</th>\n      <td>Zummi</td>\n      <td>Sir Gallant</td>\n      <td>297</td>\n      <td>70.3</td>\n    </tr>\n    <tr>\n      <th>14</th>\n      <td>Gruffi</td>\n      <td>Gusto</td>\n      <td>297</td>\n      <td>70.3</td>\n    </tr>\n    <tr>\n      <th>29</th>\n      <td>Tummi</td>\n      <td>Sir Gallant</td>\n      <td>299</td>\n      <td>70.1</td>\n    </tr>\n    <tr>\n      <th>31</th>\n      <td>Sunni</td>\n      <td>Sir Thornberry</td>\n      <td>300</td>\n      <td>70.0</td>\n    </tr>\n    <tr>\n      <th>43</th>\n      <td>Gusto</td>\n      <td>Sir Gallant</td>\n      <td>300</td>\n      <td>70.0</td>\n    </tr>\n    <tr>\n      <th>12</th>\n      <td>Gruffi</td>\n      <td>Cubbi</td>\n      <td>300</td>\n      <td>70.0</td>\n    </tr>\n    <tr>\n      <th>28</th>\n      <td>Tummi</td>\n      <td>Chummi</td>\n      <td>301</td>\n      <td>69.9</td>\n    </tr>\n    <tr>\n      <th>33</th>\n      <td>Sunni</td>\n      <td>Chummi</td>\n      <td>301</td>\n      <td>69.9</td>\n    </tr>\n    <tr>\n      <th>13</th>\n      <td>Gruffi</td>\n      <td>Sir Thornberry</td>\n      <td>302</td>\n      <td>69.8</td>\n    </tr>\n    <tr>\n      <th>15</th>\n      <td>Gruffi</td>\n      <td>Chummi</td>\n      <td>302</td>\n      <td>69.8</td>\n    </tr>\n    <tr>\n      <th>41</th>\n      <td>Sir Thornberry</td>\n      <td>Sir Gallant</td>\n      <td>303</td>\n      <td>69.7</td>\n    </tr>\n    <tr>\n      <th>39</th>\n      <td>Sir Thornberry</td>\n      <td>Gusto</td>\n      <td>303</td>\n      <td>69.7</td>\n    </tr>\n    <tr>\n      <th>4</th>\n      <td>Zummi</td>\n      <td>Cubbi</td>\n      <td>304</td>\n      <td>69.6</td>\n    </tr>\n    <tr>\n      <th>37</th>\n      <td>Cubbi</td>\n      <td>Chummi</td>\n      <td>305</td>\n      <td>69.5</td>\n    </tr>\n    <tr>\n      <th>6</th>\n      <td>Zummi</td>\n      <td>Gusto</td>\n      <td>307</td>\n      <td>69.3</td>\n    </tr>\n    <tr>\n      <th>42</th>\n      <td>Gusto</td>\n      <td>Chummi</td>\n      <td>308</td>\n      <td>69.2</td>\n    </tr>\n    <tr>\n      <th>26</th>\n      <td>Tummi</td>\n      <td>Sir Thornberry</td>\n      <td>309</td>\n      <td>69.1</td>\n    </tr>\n    <tr>\n      <th>36</th>\n      <td>Cubbi</td>\n      <td>Gusto</td>\n      <td>309</td>\n      <td>69.1</td>\n    </tr>\n    <tr>\n      <th>40</th>\n      <td>Sir Thornberry</td>\n      <td>Chummi</td>\n      <td>310</td>\n      <td>69.0</td>\n    </tr>\n    <tr>\n      <th>38</th>\n      <td>Cubbi</td>\n      <td>Sir Gallant</td>\n      <td>311</td>\n      <td>68.9</td>\n    </tr>\n    <tr>\n      <th>35</th>\n      <td>Cubbi</td>\n      <td>Sir Thornberry</td>\n      <td>311</td>\n      <td>68.9</td>\n    </tr>\n    <tr>\n      <th>23</th>\n      <td>Grammi</td>\n      <td>Sir Gallant</td>\n      <td>316</td>\n      <td>68.4</td>\n    </tr>\n    <tr>\n      <th>22</th>\n      <td>Grammi</td>\n      <td>Chummi</td>\n      <td>318</td>\n      <td>68.2</td>\n    </tr>\n    <tr>\n      <th>17</th>\n      <td>Grammi</td>\n      <td>Tummi</td>\n      <td>319</td>\n      <td>68.1</td>\n    </tr>\n    <tr>\n      <th>1</th>\n      <td>Zummi</td>\n      <td>Grammi</td>\n      <td>319</td>\n      <td>68.1</td>\n    </tr>\n    <tr>\n      <th>18</th>\n      <td>Grammi</td>\n      <td>Sunni</td>\n      <td>322</td>\n      <td>67.8</td>\n    </tr>\n    <tr>\n      <th>20</th>\n      <td>Grammi</td>\n      <td>Sir Thornberry</td>\n      <td>325</td>\n      <td>67.5</td>\n    </tr>\n    <tr>\n      <th>9</th>\n      <td>Gruffi</td>\n      <td>Grammi</td>\n      <td>328</td>\n      <td>67.2</td>\n    </tr>\n    <tr>\n      <th>21</th>\n      <td>Grammi</td>\n      <td>Gusto</td>\n      <td>330</td>\n      <td>67.0</td>\n    </tr>\n    <tr>\n      <th>19</th>\n      <td>Grammi</td>\n      <td>Cubbi</td>\n      <td>345</td>\n      <td>65.5</td>\n    </tr>\n  </tbody>\n</table>\n</div>"
     },
     "execution_count": 840,
     "metadata": {},
     "output_type": "execute_result"
    }
   ],
   "source": [
    "df_combinations2"
   ],
   "metadata": {
    "collapsed": false
   }
  },
  {
   "cell_type": "markdown",
   "source": [
    "Dane dla poszczególnych sekswencji 3 gumisiów:"
   ],
   "metadata": {
    "collapsed": false
   }
  },
  {
   "cell_type": "code",
   "execution_count": 841,
   "outputs": [
    {
     "data": {
      "text/plain": "         1               2            3  zeros  popularność\n1    Zummi          Gruffi        Tummi    134         86.6\n19   Zummi           Tummi       Chummi    141         85.9\n15   Zummi           Tummi        Sunni    143         85.7\n43  Gruffi           Tummi        Sunni    145         85.5\n18   Zummi           Tummi        Gusto    147         85.3\n..     ...             ...          ...    ...          ...\n80  Grammi  Sir Thornberry       Chummi    188         81.2\n82  Grammi           Gusto       Chummi    190         81.0\n76  Grammi           Cubbi        Gusto    191         80.9\n78  Grammi           Cubbi  Sir Gallant    193         80.7\n38  Gruffi          Grammi        Cubbi    197         80.3\n\n[120 rows x 5 columns]",
      "text/html": "<div>\n<style scoped>\n    .dataframe tbody tr th:only-of-type {\n        vertical-align: middle;\n    }\n\n    .dataframe tbody tr th {\n        vertical-align: top;\n    }\n\n    .dataframe thead th {\n        text-align: right;\n    }\n</style>\n<table border=\"1\" class=\"dataframe\">\n  <thead>\n    <tr style=\"text-align: right;\">\n      <th></th>\n      <th>1</th>\n      <th>2</th>\n      <th>3</th>\n      <th>zeros</th>\n      <th>popularność</th>\n    </tr>\n  </thead>\n  <tbody>\n    <tr>\n      <th>1</th>\n      <td>Zummi</td>\n      <td>Gruffi</td>\n      <td>Tummi</td>\n      <td>134</td>\n      <td>86.6</td>\n    </tr>\n    <tr>\n      <th>19</th>\n      <td>Zummi</td>\n      <td>Tummi</td>\n      <td>Chummi</td>\n      <td>141</td>\n      <td>85.9</td>\n    </tr>\n    <tr>\n      <th>15</th>\n      <td>Zummi</td>\n      <td>Tummi</td>\n      <td>Sunni</td>\n      <td>143</td>\n      <td>85.7</td>\n    </tr>\n    <tr>\n      <th>43</th>\n      <td>Gruffi</td>\n      <td>Tummi</td>\n      <td>Sunni</td>\n      <td>145</td>\n      <td>85.5</td>\n    </tr>\n    <tr>\n      <th>18</th>\n      <td>Zummi</td>\n      <td>Tummi</td>\n      <td>Gusto</td>\n      <td>147</td>\n      <td>85.3</td>\n    </tr>\n    <tr>\n      <th>...</th>\n      <td>...</td>\n      <td>...</td>\n      <td>...</td>\n      <td>...</td>\n      <td>...</td>\n    </tr>\n    <tr>\n      <th>80</th>\n      <td>Grammi</td>\n      <td>Sir Thornberry</td>\n      <td>Chummi</td>\n      <td>188</td>\n      <td>81.2</td>\n    </tr>\n    <tr>\n      <th>82</th>\n      <td>Grammi</td>\n      <td>Gusto</td>\n      <td>Chummi</td>\n      <td>190</td>\n      <td>81.0</td>\n    </tr>\n    <tr>\n      <th>76</th>\n      <td>Grammi</td>\n      <td>Cubbi</td>\n      <td>Gusto</td>\n      <td>191</td>\n      <td>80.9</td>\n    </tr>\n    <tr>\n      <th>78</th>\n      <td>Grammi</td>\n      <td>Cubbi</td>\n      <td>Sir Gallant</td>\n      <td>193</td>\n      <td>80.7</td>\n    </tr>\n    <tr>\n      <th>38</th>\n      <td>Gruffi</td>\n      <td>Grammi</td>\n      <td>Cubbi</td>\n      <td>197</td>\n      <td>80.3</td>\n    </tr>\n  </tbody>\n</table>\n<p>120 rows × 5 columns</p>\n</div>"
     },
     "execution_count": 841,
     "metadata": {},
     "output_type": "execute_result"
    }
   ],
   "source": [
    "df_combinations3"
   ],
   "metadata": {
    "collapsed": false
   }
  },
  {
   "cell_type": "markdown",
   "source": [
    "Dane dla poszczególnych sekswencji 4 gumisiów:"
   ],
   "metadata": {
    "collapsed": false
   }
  },
  {
   "cell_type": "code",
   "execution_count": 842,
   "outputs": [
    {
     "data": {
      "text/plain": "          1               2      3               4  zeros  popularność\n10    Zummi          Gruffi  Tummi           Gusto     67         93.3\n9     Zummi          Gruffi  Tummi  Sir Thornberry     69         93.1\n52    Zummi           Tummi  Sunni          Chummi     71         92.9\n7     Zummi          Gruffi  Tummi           Sunni     71         92.9\n50    Zummi           Tummi  Sunni  Sir Thornberry     72         92.8\n..      ...             ...    ...             ...    ...          ...\n168  Grammi           Cubbi  Gusto          Chummi    112         88.8\n98   Gruffi          Grammi  Cubbi     Sir Gallant    112         88.8\n97   Gruffi          Grammi  Cubbi          Chummi    113         88.7\n96   Gruffi          Grammi  Cubbi           Gusto    116         88.4\n171  Grammi  Sir Thornberry  Gusto          Chummi    117         88.3\n\n[210 rows x 6 columns]",
      "text/html": "<div>\n<style scoped>\n    .dataframe tbody tr th:only-of-type {\n        vertical-align: middle;\n    }\n\n    .dataframe tbody tr th {\n        vertical-align: top;\n    }\n\n    .dataframe thead th {\n        text-align: right;\n    }\n</style>\n<table border=\"1\" class=\"dataframe\">\n  <thead>\n    <tr style=\"text-align: right;\">\n      <th></th>\n      <th>1</th>\n      <th>2</th>\n      <th>3</th>\n      <th>4</th>\n      <th>zeros</th>\n      <th>popularność</th>\n    </tr>\n  </thead>\n  <tbody>\n    <tr>\n      <th>10</th>\n      <td>Zummi</td>\n      <td>Gruffi</td>\n      <td>Tummi</td>\n      <td>Gusto</td>\n      <td>67</td>\n      <td>93.3</td>\n    </tr>\n    <tr>\n      <th>9</th>\n      <td>Zummi</td>\n      <td>Gruffi</td>\n      <td>Tummi</td>\n      <td>Sir Thornberry</td>\n      <td>69</td>\n      <td>93.1</td>\n    </tr>\n    <tr>\n      <th>52</th>\n      <td>Zummi</td>\n      <td>Tummi</td>\n      <td>Sunni</td>\n      <td>Chummi</td>\n      <td>71</td>\n      <td>92.9</td>\n    </tr>\n    <tr>\n      <th>7</th>\n      <td>Zummi</td>\n      <td>Gruffi</td>\n      <td>Tummi</td>\n      <td>Sunni</td>\n      <td>71</td>\n      <td>92.9</td>\n    </tr>\n    <tr>\n      <th>50</th>\n      <td>Zummi</td>\n      <td>Tummi</td>\n      <td>Sunni</td>\n      <td>Sir Thornberry</td>\n      <td>72</td>\n      <td>92.8</td>\n    </tr>\n    <tr>\n      <th>...</th>\n      <td>...</td>\n      <td>...</td>\n      <td>...</td>\n      <td>...</td>\n      <td>...</td>\n      <td>...</td>\n    </tr>\n    <tr>\n      <th>168</th>\n      <td>Grammi</td>\n      <td>Cubbi</td>\n      <td>Gusto</td>\n      <td>Chummi</td>\n      <td>112</td>\n      <td>88.8</td>\n    </tr>\n    <tr>\n      <th>98</th>\n      <td>Gruffi</td>\n      <td>Grammi</td>\n      <td>Cubbi</td>\n      <td>Sir Gallant</td>\n      <td>112</td>\n      <td>88.8</td>\n    </tr>\n    <tr>\n      <th>97</th>\n      <td>Gruffi</td>\n      <td>Grammi</td>\n      <td>Cubbi</td>\n      <td>Chummi</td>\n      <td>113</td>\n      <td>88.7</td>\n    </tr>\n    <tr>\n      <th>96</th>\n      <td>Gruffi</td>\n      <td>Grammi</td>\n      <td>Cubbi</td>\n      <td>Gusto</td>\n      <td>116</td>\n      <td>88.4</td>\n    </tr>\n    <tr>\n      <th>171</th>\n      <td>Grammi</td>\n      <td>Sir Thornberry</td>\n      <td>Gusto</td>\n      <td>Chummi</td>\n      <td>117</td>\n      <td>88.3</td>\n    </tr>\n  </tbody>\n</table>\n<p>210 rows × 6 columns</p>\n</div>"
     },
     "execution_count": 842,
     "metadata": {},
     "output_type": "execute_result"
    }
   ],
   "source": [
    "df_combinations4"
   ],
   "metadata": {
    "collapsed": false
   }
  },
  {
   "cell_type": "markdown",
   "source": [
    "Dane dla poszczególnych sekswencji 5 gumisiów:"
   ],
   "metadata": {
    "collapsed": false
   }
  },
  {
   "cell_type": "code",
   "execution_count": 843,
   "outputs": [
    {
     "data": {
      "text/plain": "          1       2               3               4               5  zeros  \\\n30    Zummi  Gruffi           Tummi  Sir Thornberry           Gusto     33   \n22    Zummi  Gruffi           Tummi           Sunni  Sir Thornberry     34   \n23    Zummi  Gruffi           Tummi           Sunni           Gusto     35   \n96    Zummi   Tummi           Sunni  Sir Thornberry          Chummi     35   \n91    Zummi   Tummi           Sunni           Cubbi  Sir Thornberry     36   \n..      ...     ...             ...             ...             ...    ...   \n151  Gruffi  Grammi           Cubbi  Sir Thornberry           Gusto     68   \n152  Gruffi  Grammi           Cubbi  Sir Thornberry          Chummi     68   \n157  Gruffi  Grammi  Sir Thornberry           Gusto          Chummi     69   \n154  Gruffi  Grammi           Cubbi           Gusto          Chummi     73   \n226  Grammi   Cubbi  Sir Thornberry           Gusto          Chummi     73   \n\n     popularność  \n30          96.7  \n22          96.6  \n23          96.5  \n96          96.5  \n91          96.4  \n..           ...  \n151         93.2  \n152         93.2  \n157         93.1  \n154         92.7  \n226         92.7  \n\n[252 rows x 7 columns]",
      "text/html": "<div>\n<style scoped>\n    .dataframe tbody tr th:only-of-type {\n        vertical-align: middle;\n    }\n\n    .dataframe tbody tr th {\n        vertical-align: top;\n    }\n\n    .dataframe thead th {\n        text-align: right;\n    }\n</style>\n<table border=\"1\" class=\"dataframe\">\n  <thead>\n    <tr style=\"text-align: right;\">\n      <th></th>\n      <th>1</th>\n      <th>2</th>\n      <th>3</th>\n      <th>4</th>\n      <th>5</th>\n      <th>zeros</th>\n      <th>popularność</th>\n    </tr>\n  </thead>\n  <tbody>\n    <tr>\n      <th>30</th>\n      <td>Zummi</td>\n      <td>Gruffi</td>\n      <td>Tummi</td>\n      <td>Sir Thornberry</td>\n      <td>Gusto</td>\n      <td>33</td>\n      <td>96.7</td>\n    </tr>\n    <tr>\n      <th>22</th>\n      <td>Zummi</td>\n      <td>Gruffi</td>\n      <td>Tummi</td>\n      <td>Sunni</td>\n      <td>Sir Thornberry</td>\n      <td>34</td>\n      <td>96.6</td>\n    </tr>\n    <tr>\n      <th>23</th>\n      <td>Zummi</td>\n      <td>Gruffi</td>\n      <td>Tummi</td>\n      <td>Sunni</td>\n      <td>Gusto</td>\n      <td>35</td>\n      <td>96.5</td>\n    </tr>\n    <tr>\n      <th>96</th>\n      <td>Zummi</td>\n      <td>Tummi</td>\n      <td>Sunni</td>\n      <td>Sir Thornberry</td>\n      <td>Chummi</td>\n      <td>35</td>\n      <td>96.5</td>\n    </tr>\n    <tr>\n      <th>91</th>\n      <td>Zummi</td>\n      <td>Tummi</td>\n      <td>Sunni</td>\n      <td>Cubbi</td>\n      <td>Sir Thornberry</td>\n      <td>36</td>\n      <td>96.4</td>\n    </tr>\n    <tr>\n      <th>...</th>\n      <td>...</td>\n      <td>...</td>\n      <td>...</td>\n      <td>...</td>\n      <td>...</td>\n      <td>...</td>\n      <td>...</td>\n    </tr>\n    <tr>\n      <th>151</th>\n      <td>Gruffi</td>\n      <td>Grammi</td>\n      <td>Cubbi</td>\n      <td>Sir Thornberry</td>\n      <td>Gusto</td>\n      <td>68</td>\n      <td>93.2</td>\n    </tr>\n    <tr>\n      <th>152</th>\n      <td>Gruffi</td>\n      <td>Grammi</td>\n      <td>Cubbi</td>\n      <td>Sir Thornberry</td>\n      <td>Chummi</td>\n      <td>68</td>\n      <td>93.2</td>\n    </tr>\n    <tr>\n      <th>157</th>\n      <td>Gruffi</td>\n      <td>Grammi</td>\n      <td>Sir Thornberry</td>\n      <td>Gusto</td>\n      <td>Chummi</td>\n      <td>69</td>\n      <td>93.1</td>\n    </tr>\n    <tr>\n      <th>154</th>\n      <td>Gruffi</td>\n      <td>Grammi</td>\n      <td>Cubbi</td>\n      <td>Gusto</td>\n      <td>Chummi</td>\n      <td>73</td>\n      <td>92.7</td>\n    </tr>\n    <tr>\n      <th>226</th>\n      <td>Grammi</td>\n      <td>Cubbi</td>\n      <td>Sir Thornberry</td>\n      <td>Gusto</td>\n      <td>Chummi</td>\n      <td>73</td>\n      <td>92.7</td>\n    </tr>\n  </tbody>\n</table>\n<p>252 rows × 7 columns</p>\n</div>"
     },
     "execution_count": 843,
     "metadata": {},
     "output_type": "execute_result"
    }
   ],
   "source": [
    "df_combinations5"
   ],
   "metadata": {
    "collapsed": false
   }
  },
  {
   "cell_type": "markdown",
   "source": [
    "# Wnioski i zalecenia:"
   ],
   "metadata": {
    "collapsed": false
   }
  },
  {
   "cell_type": "markdown",
   "source": [
    "W zależności od posiadanego budżetu przez klienta należy wybrać odpowiednią liczbę gumisiów do promocji produktu. Chcąc maksymalizować zasięgi oprócz wyboru liczby gumisiów promujących produkt należy również uwzględnić fakt, że dla różnych kombinacji gumisiów w grupach otrzyma się potencjalnie różną popularność produktu. Na podstawie danych uzyskanych od respondentów można przewidzieć imiona gumisiów, które dadzą najlepsze zasięgi w ramach promocji produktu P2. Są to odpowiednio:"
   ],
   "metadata": {
    "collapsed": false
   }
  },
  {
   "cell_type": "markdown",
   "source": [
    "Zalecenia wyboru gumisiów:"
   ],
   "metadata": {
    "collapsed": false
   }
  },
  {
   "cell_type": "code",
   "execution_count": 844,
   "outputs": [
    {
     "name": "stdout",
     "output_type": "stream",
     "text": [
      "1 Gumiś: Sunni \t\t\t\t\t\t\t\t\t\t\t\t  popularność - 46.9\n",
      "2 Gumisie: Zummi,Tummi \t\t\t\t\t\t\t\t\t\t  popularność - 72.7\n",
      "3 Gumisie: Zummi,Gruffi,Tummi \t\t\t\t\t\t\t\t  popularność - 86.6\n",
      "4 Gumisie: Zummi,Gruffi,Tummi,Gusto \t\t\t\t\t\t  popularność - 93.30000000000001\n",
      "5 Gumisiów: Zummi,Gruffi,Tummi,Sir Thornberry,Gusto \t\t  popularność - 96.7\n"
     ]
    }
   ],
   "source": [
    "print(f'1 Gumiś: {df_combinations1[\"1\"].values[0]} \\t\\t\\t\\t\\t\\t\\t\\t\\t\\t\\t\\t  popularność - {df_combinations1[\"popularność\"].values[0]}')\n",
    "print(f'2 Gumisie: {df_combinations2[\"1\"].values[0]},{df_combinations2[\"2\"].values[0]} \\t\\t\\t\\t\\t\\t\\t\\t\\t\\t  popularność - {df_combinations2[\"popularność\"].values[0]}')\n",
    "print(f'3 Gumisie: {df_combinations3[\"1\"].values[0]},{df_combinations3[\"2\"].values[0]},{df_combinations3[\"3\"].values[0]} \\t\\t\\t\\t\\t\\t\\t\\t  popularność - {df_combinations3[\"popularność\"].values[0]}')\n",
    "print(f'4 Gumisie: {df_combinations4[\"1\"].values[0]},{df_combinations4[\"2\"].values[0]},{df_combinations4[\"3\"].values[0]},{df_combinations4[\"4\"].values[0]} \\t\\t\\t\\t\\t\\t  popularność - {df_combinations4[\"popularność\"].values[0]}')\n",
    "print(f'5 Gumisiów: {df_combinations5[\"1\"].values[0]},{df_combinations5[\"2\"].values[0]},{df_combinations5[\"3\"].values[0]},{df_combinations5[\"4\"].values[0]},{df_combinations5[\"5\"].values[0]} \\t\\t  popularność - {df_combinations5[\"popularność\"].values[0]}')"
   ],
   "metadata": {
    "collapsed": false
   }
  }
 ],
 "metadata": {
  "kernelspec": {
   "display_name": "Python 3",
   "language": "python",
   "name": "python3"
  },
  "language_info": {
   "codemirror_mode": {
    "name": "ipython",
    "version": 2
   },
   "file_extension": ".py",
   "mimetype": "text/x-python",
   "name": "python",
   "nbconvert_exporter": "python",
   "pygments_lexer": "ipython2",
   "version": "2.7.6"
  }
 },
 "nbformat": 4,
 "nbformat_minor": 0
}
