{
 "cells": [
  {
   "cell_type": "markdown",
   "source": [
    "# ZADANIE 1"
   ],
   "metadata": {
    "collapsed": false
   }
  },
  {
   "cell_type": "markdown",
   "source": [
    "Import bibliotek"
   ],
   "metadata": {
    "collapsed": false
   }
  },
  {
   "cell_type": "code",
   "execution_count": 272,
   "metadata": {
    "collapsed": true
   },
   "outputs": [],
   "source": [
    "import numpy as np\n",
    "import pandas as pd\n",
    "from pathlib import Path\n",
    "from pprint import pprint"
   ]
  },
  {
   "cell_type": "markdown",
   "source": [
    "## Preprocessing danych\n",
    "\n",
    "Wczytanie danych"
   ],
   "metadata": {
    "collapsed": false
   }
  },
  {
   "cell_type": "code",
   "execution_count": 273,
   "outputs": [],
   "source": [
    "df_path = Path('data.csv')\n",
    "pd.set_option(\"display.max_columns\", None)\n",
    "pd.set_option(\"display.max_rows\", 80)\n",
    "df = pd.read_csv(df_path, sep=';')\n",
    "df.columns = df.columns.str.strip()"
   ],
   "metadata": {
    "collapsed": false
   }
  },
  {
   "cell_type": "markdown",
   "source": [
    "Przeglądanie danych, ujednolicenie wartości w kolumnach:"
   ],
   "metadata": {
    "collapsed": false
   }
  },
  {
   "cell_type": "code",
   "execution_count": 274,
   "outputs": [
    {
     "data": {
      "text/plain": "           Zummi       Gruffi       Grammi        Tummi        Sunni  \\\n0    Nie Widział  Nie Widział  Nie Widział  Nie Widział      Widział   \n1        Widział  Nie Widział      Widział      Widział      Widział   \n2        Widział  Nie Widział      Widział  Nie Widział      Widział   \n3    Nie Widział  Nie Widział  Nie Widział      Widział      Widział   \n4        Widział      Widział      Widział  Nie Widział  Nie Widział   \n..           ...          ...          ...          ...          ...   \n995      Widział  Nie Widział      Widział      Widział      Widział   \n996      Widział      Widział  Nie Widział      Widział  Nie Widział   \n997      Widział      Widział  Nie Widział  Nie Widział  Nie Widział   \n998  Nie Widział      Widział      Widział      Widział  Nie Widział   \n999  Nie Widział  Nie Widział      Widział      Widział      Widział   \n\n           Cubbi Sir Thornberry        Gusto       Chummi  Sir Gallant  \n0        Widział    Nie Widział  Nie Widział  Nie Widział  Nie Widział  \n1        Widział    Nie Widział      Widział  Nie Widział      Widział  \n2        Widział        Widział      Widział  Nie Widział      Widział  \n3    Nie Widział    Nie Widział  Nie Widział  Nie Widział  Nie Widział  \n4        Widział    Nie Widział  Nie Widział      Widział      Widział  \n..           ...            ...          ...          ...          ...  \n995  Nie Widział    Nie Widział      Widział      Widział  Nie Widział  \n996  Nie Widział        Widział      Widział  Nie Widział  Nie Widział  \n997      Widział    Nie Widział  Nie Widział      Widział  Nie Widział  \n998  Nie Widział    Nie Widział  Nie Widział  Nie Widział  Nie Widział  \n999      Widział        Widział      Widział  Nie Widział      Widział  \n\n[1000 rows x 10 columns]",
      "text/html": "<div>\n<style scoped>\n    .dataframe tbody tr th:only-of-type {\n        vertical-align: middle;\n    }\n\n    .dataframe tbody tr th {\n        vertical-align: top;\n    }\n\n    .dataframe thead th {\n        text-align: right;\n    }\n</style>\n<table border=\"1\" class=\"dataframe\">\n  <thead>\n    <tr style=\"text-align: right;\">\n      <th></th>\n      <th>Zummi</th>\n      <th>Gruffi</th>\n      <th>Grammi</th>\n      <th>Tummi</th>\n      <th>Sunni</th>\n      <th>Cubbi</th>\n      <th>Sir Thornberry</th>\n      <th>Gusto</th>\n      <th>Chummi</th>\n      <th>Sir Gallant</th>\n    </tr>\n  </thead>\n  <tbody>\n    <tr>\n      <th>0</th>\n      <td>Nie Widział</td>\n      <td>Nie Widział</td>\n      <td>Nie Widział</td>\n      <td>Nie Widział</td>\n      <td>Widział</td>\n      <td>Widział</td>\n      <td>Nie Widział</td>\n      <td>Nie Widział</td>\n      <td>Nie Widział</td>\n      <td>Nie Widział</td>\n    </tr>\n    <tr>\n      <th>1</th>\n      <td>Widział</td>\n      <td>Nie Widział</td>\n      <td>Widział</td>\n      <td>Widział</td>\n      <td>Widział</td>\n      <td>Widział</td>\n      <td>Nie Widział</td>\n      <td>Widział</td>\n      <td>Nie Widział</td>\n      <td>Widział</td>\n    </tr>\n    <tr>\n      <th>2</th>\n      <td>Widział</td>\n      <td>Nie Widział</td>\n      <td>Widział</td>\n      <td>Nie Widział</td>\n      <td>Widział</td>\n      <td>Widział</td>\n      <td>Widział</td>\n      <td>Widział</td>\n      <td>Nie Widział</td>\n      <td>Widział</td>\n    </tr>\n    <tr>\n      <th>3</th>\n      <td>Nie Widział</td>\n      <td>Nie Widział</td>\n      <td>Nie Widział</td>\n      <td>Widział</td>\n      <td>Widział</td>\n      <td>Nie Widział</td>\n      <td>Nie Widział</td>\n      <td>Nie Widział</td>\n      <td>Nie Widział</td>\n      <td>Nie Widział</td>\n    </tr>\n    <tr>\n      <th>4</th>\n      <td>Widział</td>\n      <td>Widział</td>\n      <td>Widział</td>\n      <td>Nie Widział</td>\n      <td>Nie Widział</td>\n      <td>Widział</td>\n      <td>Nie Widział</td>\n      <td>Nie Widział</td>\n      <td>Widział</td>\n      <td>Widział</td>\n    </tr>\n    <tr>\n      <th>...</th>\n      <td>...</td>\n      <td>...</td>\n      <td>...</td>\n      <td>...</td>\n      <td>...</td>\n      <td>...</td>\n      <td>...</td>\n      <td>...</td>\n      <td>...</td>\n      <td>...</td>\n    </tr>\n    <tr>\n      <th>995</th>\n      <td>Widział</td>\n      <td>Nie Widział</td>\n      <td>Widział</td>\n      <td>Widział</td>\n      <td>Widział</td>\n      <td>Nie Widział</td>\n      <td>Nie Widział</td>\n      <td>Widział</td>\n      <td>Widział</td>\n      <td>Nie Widział</td>\n    </tr>\n    <tr>\n      <th>996</th>\n      <td>Widział</td>\n      <td>Widział</td>\n      <td>Nie Widział</td>\n      <td>Widział</td>\n      <td>Nie Widział</td>\n      <td>Nie Widział</td>\n      <td>Widział</td>\n      <td>Widział</td>\n      <td>Nie Widział</td>\n      <td>Nie Widział</td>\n    </tr>\n    <tr>\n      <th>997</th>\n      <td>Widział</td>\n      <td>Widział</td>\n      <td>Nie Widział</td>\n      <td>Nie Widział</td>\n      <td>Nie Widział</td>\n      <td>Widział</td>\n      <td>Nie Widział</td>\n      <td>Nie Widział</td>\n      <td>Widział</td>\n      <td>Nie Widział</td>\n    </tr>\n    <tr>\n      <th>998</th>\n      <td>Nie Widział</td>\n      <td>Widział</td>\n      <td>Widział</td>\n      <td>Widział</td>\n      <td>Nie Widział</td>\n      <td>Nie Widział</td>\n      <td>Nie Widział</td>\n      <td>Nie Widział</td>\n      <td>Nie Widział</td>\n      <td>Nie Widział</td>\n    </tr>\n    <tr>\n      <th>999</th>\n      <td>Nie Widział</td>\n      <td>Nie Widział</td>\n      <td>Widział</td>\n      <td>Widział</td>\n      <td>Widział</td>\n      <td>Widział</td>\n      <td>Widział</td>\n      <td>Widział</td>\n      <td>Nie Widział</td>\n      <td>Widział</td>\n    </tr>\n  </tbody>\n</table>\n<p>1000 rows × 10 columns</p>\n</div>"
     },
     "execution_count": 274,
     "metadata": {},
     "output_type": "execute_result"
    }
   ],
   "source": [
    "df = df.drop(df.columns[0], axis=1)\n",
    "df"
   ],
   "metadata": {
    "collapsed": false
   }
  },
  {
   "cell_type": "code",
   "execution_count": 275,
   "outputs": [
    {
     "name": "stdout",
     "output_type": "stream",
     "text": [
      "Liczba respondentów: 1000\n",
      "Liczba gumisiów: 10\n"
     ]
    }
   ],
   "source": [
    "print(f'Liczba respondentów:', df.shape[0])\n",
    "print(f'Liczba gumisiów:', df.shape[1])"
   ],
   "metadata": {
    "collapsed": false
   }
  },
  {
   "cell_type": "markdown",
   "source": [
    "Nazwy kolumn ramki danych (gumisiów):"
   ],
   "metadata": {
    "collapsed": false
   }
  },
  {
   "cell_type": "code",
   "execution_count": 276,
   "outputs": [
    {
     "data": {
      "text/plain": "['Zummi',\n 'Gruffi',\n 'Grammi',\n 'Tummi',\n 'Sunni',\n 'Cubbi',\n 'Sir Thornberry',\n 'Gusto',\n 'Chummi',\n 'Sir Gallant']"
     },
     "execution_count": 276,
     "metadata": {},
     "output_type": "execute_result"
    }
   ],
   "source": [
    "col_names = df.columns\n",
    "col_names = col_names.to_list()\n",
    "col_names"
   ],
   "metadata": {
    "collapsed": false
   }
  },
  {
   "cell_type": "markdown",
   "source": [
    "Sprawdzenie czy w ramce danych znajdują się puste wartości"
   ],
   "metadata": {
    "collapsed": false
   }
  },
  {
   "cell_type": "code",
   "execution_count": 277,
   "outputs": [
    {
     "name": "stdout",
     "output_type": "stream",
     "text": [
      "Columns with NaN values:  ['Zummi', 'Gruffi', 'Grammi', 'Tummi', 'Sunni', 'Cubbi', 'Sir Thornberry', 'Gusto', 'Chummi', 'Sir Gallant']\n"
     ]
    }
   ],
   "source": [
    "cols_with_nans = df.columns[df.isna().any()].tolist()\n",
    "print(\"Columns with NaN values: \", cols_with_nans)"
   ],
   "metadata": {
    "collapsed": false
   }
  },
  {
   "cell_type": "markdown",
   "source": [
    "Wypisanie liczby pustych wartości dla poszczególnych gumisiów - tyle respondentów nie określiło czy widziało reklamę danego gumisia w social mediach, czy też nie:"
   ],
   "metadata": {
    "collapsed": false
   }
  },
  {
   "cell_type": "code",
   "execution_count": 278,
   "outputs": [
    {
     "name": "stdout",
     "output_type": "stream",
     "text": [
      "Zummi             16\n",
      "Gruffi            16\n",
      "Grammi            21\n",
      "Tummi             11\n",
      "Sunni             21\n",
      "Cubbi             15\n",
      "Sir Thornberry    15\n",
      "Gusto             13\n",
      "Chummi            18\n",
      "Sir Gallant       14\n",
      "dtype: int64\n"
     ]
    }
   ],
   "source": [
    "print(df.isna().sum())"
   ],
   "metadata": {
    "collapsed": false
   }
  },
  {
   "cell_type": "markdown",
   "source": [
    "Ponieważ w ramce danych znajdują się puste wartości, logicznym podejściem uwzględniającym kontekst zadania jest wypełnienie tych komórek oznaczeniem, że dany respondent nie widział reklamy produktu P1 w social mediach prezentowanego przez danego gumisia."
   ],
   "metadata": {
    "collapsed": false
   }
  },
  {
   "cell_type": "code",
   "execution_count": 279,
   "outputs": [],
   "source": [
    "df = df.fillna('nie')"
   ],
   "metadata": {
    "collapsed": false
   }
  },
  {
   "cell_type": "code",
   "execution_count": 280,
   "outputs": [
    {
     "data": {
      "text/plain": "Zummi           Nie Widział  Widział  nie  Widzial  nie widzial  Widzi al  tak\nZummi                   493      419   26       22           18        11   11\nGruffi                  479      428   28       27           28         6    4\nGrammi                  523      378   36       24           25         7    7\nTummi                   502      396   20       29           21        12   20\nSunni                   475      410   33       36           23        12   11\nCubbi                   511      394   21       26           30         8   10\nSir Thornberry          500      383   23       32           30         9   23\nGusto                   512      399   21       24           21        11   12\nChummi                  491      401   28       33           29         6   12\nSir Gallant             486      400   25       38           27        10   14",
      "text/html": "<div>\n<style scoped>\n    .dataframe tbody tr th:only-of-type {\n        vertical-align: middle;\n    }\n\n    .dataframe tbody tr th {\n        vertical-align: top;\n    }\n\n    .dataframe thead th {\n        text-align: right;\n    }\n</style>\n<table border=\"1\" class=\"dataframe\">\n  <thead>\n    <tr style=\"text-align: right;\">\n      <th>Zummi</th>\n      <th>Nie Widział</th>\n      <th>Widział</th>\n      <th>nie</th>\n      <th>Widzial</th>\n      <th>nie widzial</th>\n      <th>Widzi al</th>\n      <th>tak</th>\n    </tr>\n  </thead>\n  <tbody>\n    <tr>\n      <th>Zummi</th>\n      <td>493</td>\n      <td>419</td>\n      <td>26</td>\n      <td>22</td>\n      <td>18</td>\n      <td>11</td>\n      <td>11</td>\n    </tr>\n    <tr>\n      <th>Gruffi</th>\n      <td>479</td>\n      <td>428</td>\n      <td>28</td>\n      <td>27</td>\n      <td>28</td>\n      <td>6</td>\n      <td>4</td>\n    </tr>\n    <tr>\n      <th>Grammi</th>\n      <td>523</td>\n      <td>378</td>\n      <td>36</td>\n      <td>24</td>\n      <td>25</td>\n      <td>7</td>\n      <td>7</td>\n    </tr>\n    <tr>\n      <th>Tummi</th>\n      <td>502</td>\n      <td>396</td>\n      <td>20</td>\n      <td>29</td>\n      <td>21</td>\n      <td>12</td>\n      <td>20</td>\n    </tr>\n    <tr>\n      <th>Sunni</th>\n      <td>475</td>\n      <td>410</td>\n      <td>33</td>\n      <td>36</td>\n      <td>23</td>\n      <td>12</td>\n      <td>11</td>\n    </tr>\n    <tr>\n      <th>Cubbi</th>\n      <td>511</td>\n      <td>394</td>\n      <td>21</td>\n      <td>26</td>\n      <td>30</td>\n      <td>8</td>\n      <td>10</td>\n    </tr>\n    <tr>\n      <th>Sir Thornberry</th>\n      <td>500</td>\n      <td>383</td>\n      <td>23</td>\n      <td>32</td>\n      <td>30</td>\n      <td>9</td>\n      <td>23</td>\n    </tr>\n    <tr>\n      <th>Gusto</th>\n      <td>512</td>\n      <td>399</td>\n      <td>21</td>\n      <td>24</td>\n      <td>21</td>\n      <td>11</td>\n      <td>12</td>\n    </tr>\n    <tr>\n      <th>Chummi</th>\n      <td>491</td>\n      <td>401</td>\n      <td>28</td>\n      <td>33</td>\n      <td>29</td>\n      <td>6</td>\n      <td>12</td>\n    </tr>\n    <tr>\n      <th>Sir Gallant</th>\n      <td>486</td>\n      <td>400</td>\n      <td>25</td>\n      <td>38</td>\n      <td>27</td>\n      <td>10</td>\n      <td>14</td>\n    </tr>\n  </tbody>\n</table>\n</div>"
     },
     "execution_count": 280,
     "metadata": {},
     "output_type": "execute_result"
    }
   ],
   "source": [
    "df_counts = pd.DataFrame()\n",
    "for col in df.columns:\n",
    "    df_counts[col] = df[col].value_counts()\n",
    "\n",
    "df_counts = df_counts.transpose()\n",
    "df_counts"
   ],
   "metadata": {
    "collapsed": false
   }
  },
  {
   "cell_type": "code",
   "execution_count": 281,
   "outputs": [],
   "source": [
    "df = df.astype(str)\n",
    "\n",
    "def map_values(val):\n",
    "    if 'nie' in val.lower():\n",
    "        return 0\n",
    "    else:\n",
    "        return 1\n",
    "\n",
    "for col in df.columns:\n",
    "  df[col] = df[col].apply(map_values)"
   ],
   "metadata": {
    "collapsed": false
   }
  },
  {
   "cell_type": "markdown",
   "source": [
    "Odpowiednio przygotowane dane wyglądają następująco:\n",
    "\n",
    "gdzie:\n",
    "1 - oznacza, że respondent widział reklamę gumisia w social mediach,\n",
    "0 - oznacza, że respondent nie widział lub brakowało informacji na temat tego, że widział."
   ],
   "metadata": {
    "collapsed": false
   }
  },
  {
   "cell_type": "code",
   "execution_count": 282,
   "outputs": [
    {
     "data": {
      "text/plain": "     Zummi  Gruffi  Grammi  Tummi  Sunni  Cubbi  Sir Thornberry  Gusto  \\\n0        0       0       0      0      1      1               0      0   \n1        1       0       1      1      1      1               0      1   \n2        1       0       1      0      1      1               1      1   \n3        0       0       0      1      1      0               0      0   \n4        1       1       1      0      0      1               0      0   \n..     ...     ...     ...    ...    ...    ...             ...    ...   \n995      1       0       1      1      1      0               0      1   \n996      1       1       0      1      0      0               1      1   \n997      1       1       0      0      0      1               0      0   \n998      0       1       1      1      0      0               0      0   \n999      0       0       1      1      1      1               1      1   \n\n     Chummi  Sir Gallant  \n0         0            0  \n1         0            1  \n2         0            1  \n3         0            0  \n4         1            1  \n..      ...          ...  \n995       1            0  \n996       0            0  \n997       1            0  \n998       0            0  \n999       0            1  \n\n[1000 rows x 10 columns]",
      "text/html": "<div>\n<style scoped>\n    .dataframe tbody tr th:only-of-type {\n        vertical-align: middle;\n    }\n\n    .dataframe tbody tr th {\n        vertical-align: top;\n    }\n\n    .dataframe thead th {\n        text-align: right;\n    }\n</style>\n<table border=\"1\" class=\"dataframe\">\n  <thead>\n    <tr style=\"text-align: right;\">\n      <th></th>\n      <th>Zummi</th>\n      <th>Gruffi</th>\n      <th>Grammi</th>\n      <th>Tummi</th>\n      <th>Sunni</th>\n      <th>Cubbi</th>\n      <th>Sir Thornberry</th>\n      <th>Gusto</th>\n      <th>Chummi</th>\n      <th>Sir Gallant</th>\n    </tr>\n  </thead>\n  <tbody>\n    <tr>\n      <th>0</th>\n      <td>0</td>\n      <td>0</td>\n      <td>0</td>\n      <td>0</td>\n      <td>1</td>\n      <td>1</td>\n      <td>0</td>\n      <td>0</td>\n      <td>0</td>\n      <td>0</td>\n    </tr>\n    <tr>\n      <th>1</th>\n      <td>1</td>\n      <td>0</td>\n      <td>1</td>\n      <td>1</td>\n      <td>1</td>\n      <td>1</td>\n      <td>0</td>\n      <td>1</td>\n      <td>0</td>\n      <td>1</td>\n    </tr>\n    <tr>\n      <th>2</th>\n      <td>1</td>\n      <td>0</td>\n      <td>1</td>\n      <td>0</td>\n      <td>1</td>\n      <td>1</td>\n      <td>1</td>\n      <td>1</td>\n      <td>0</td>\n      <td>1</td>\n    </tr>\n    <tr>\n      <th>3</th>\n      <td>0</td>\n      <td>0</td>\n      <td>0</td>\n      <td>1</td>\n      <td>1</td>\n      <td>0</td>\n      <td>0</td>\n      <td>0</td>\n      <td>0</td>\n      <td>0</td>\n    </tr>\n    <tr>\n      <th>4</th>\n      <td>1</td>\n      <td>1</td>\n      <td>1</td>\n      <td>0</td>\n      <td>0</td>\n      <td>1</td>\n      <td>0</td>\n      <td>0</td>\n      <td>1</td>\n      <td>1</td>\n    </tr>\n    <tr>\n      <th>...</th>\n      <td>...</td>\n      <td>...</td>\n      <td>...</td>\n      <td>...</td>\n      <td>...</td>\n      <td>...</td>\n      <td>...</td>\n      <td>...</td>\n      <td>...</td>\n      <td>...</td>\n    </tr>\n    <tr>\n      <th>995</th>\n      <td>1</td>\n      <td>0</td>\n      <td>1</td>\n      <td>1</td>\n      <td>1</td>\n      <td>0</td>\n      <td>0</td>\n      <td>1</td>\n      <td>1</td>\n      <td>0</td>\n    </tr>\n    <tr>\n      <th>996</th>\n      <td>1</td>\n      <td>1</td>\n      <td>0</td>\n      <td>1</td>\n      <td>0</td>\n      <td>0</td>\n      <td>1</td>\n      <td>1</td>\n      <td>0</td>\n      <td>0</td>\n    </tr>\n    <tr>\n      <th>997</th>\n      <td>1</td>\n      <td>1</td>\n      <td>0</td>\n      <td>0</td>\n      <td>0</td>\n      <td>1</td>\n      <td>0</td>\n      <td>0</td>\n      <td>1</td>\n      <td>0</td>\n    </tr>\n    <tr>\n      <th>998</th>\n      <td>0</td>\n      <td>1</td>\n      <td>1</td>\n      <td>1</td>\n      <td>0</td>\n      <td>0</td>\n      <td>0</td>\n      <td>0</td>\n      <td>0</td>\n      <td>0</td>\n    </tr>\n    <tr>\n      <th>999</th>\n      <td>0</td>\n      <td>0</td>\n      <td>1</td>\n      <td>1</td>\n      <td>1</td>\n      <td>1</td>\n      <td>1</td>\n      <td>1</td>\n      <td>0</td>\n      <td>1</td>\n    </tr>\n  </tbody>\n</table>\n<p>1000 rows × 10 columns</p>\n</div>"
     },
     "execution_count": 282,
     "metadata": {},
     "output_type": "execute_result"
    }
   ],
   "source": [
    "df"
   ],
   "metadata": {
    "collapsed": false
   }
  },
  {
   "cell_type": "markdown",
   "source": [
    "## Właściwa analiza danych"
   ],
   "metadata": {
    "collapsed": false
   }
  },
  {
   "cell_type": "markdown",
   "source": [
    "### Analiza gumisiów z osobna\n",
    "\n",
    "Zasięg każdego z gumisiów:"
   ],
   "metadata": {
    "collapsed": false
   }
  },
  {
   "cell_type": "code",
   "execution_count": 283,
   "outputs": [
    {
     "name": "stdout",
     "output_type": "stream",
     "text": [
      "[('Sunni', 469),\n",
      " ('Gruffi', 465),\n",
      " ('Zummi', 463),\n",
      " ('Sir Gallant', 462),\n",
      " ('Tummi', 457),\n",
      " ('Chummi', 452),\n",
      " ('Sir Thornberry', 447),\n",
      " ('Gusto', 446),\n",
      " ('Cubbi', 438),\n",
      " ('Grammi', 416)]\n"
     ]
    }
   ],
   "source": [
    "gummis_dict = {}\n",
    "\n",
    "for col in df.columns:\n",
    "    gummis_dict[col] = df[col].sum()\n",
    "\n",
    "gummis_list = list(gummis_dict.items())\n",
    "sorted_gummis_list = sorted(gummis_list, key=lambda x: x[1], reverse=True)\n",
    "\n",
    "pprint(sorted_gummis_list)"
   ],
   "metadata": {
    "collapsed": false
   }
  },
  {
   "cell_type": "code",
   "execution_count": 284,
   "outputs": [
    {
     "name": "stdout",
     "output_type": "stream",
     "text": [
      "Rozpoznawalność najpopularniejszego gumisia -> 0.469\n",
      "Rozpoznawalność najmniej popularnego gumisia -> 0.416\n",
      "Wzgledna różnica rozpoznawalności [%] -> 12.740384615384615\n"
     ]
    }
   ],
   "source": [
    "max_value = max(gummis_dict.values())\n",
    "min_value = min(gummis_dict.values())\n",
    "difference_percentage = ((max_value - min_value) / min_value) * 100\n",
    "\n",
    "print(f'Rozpoznawalność najpopularniejszego gumisia ->', max_value/df.shape[0])\n",
    "print(f'Rozpoznawalność najmniej popularnego gumisia ->', min_value/df.shape[0])\n",
    "print(f'Wzgledna różnica rozpoznawalności [%] ->', difference_percentage)"
   ],
   "metadata": {
    "collapsed": false
   }
  },
  {
   "cell_type": "markdown",
   "source": [
    "Analiza rozpatrująca każdego z gumisiów osobno wykazuje, że każdy z gumisiów posiada zbliżoną popularność zgodnie z opiniami respondentów. ponieważ gumiś najgorzej rozpoznawalny jest o niespełna 13% rzadziej widziany od gumisia najbardziej popularnego."
   ],
   "metadata": {
    "collapsed": false
   }
  },
  {
   "cell_type": "markdown",
   "source": [
    "Rozpatrując gumisie niezależnie od siebie, do promocji produktu P2 należałoby wybrać następujących gumisiów:"
   ],
   "metadata": {
    "collapsed": false
   }
  },
  {
   "cell_type": "code",
   "execution_count": 285,
   "outputs": [
    {
     "name": "stdout",
     "output_type": "stream",
     "text": [
      "Sunni\n",
      "Gruffi\n",
      "Zummi\n",
      "Sir Gallant\n",
      "Tummi\n"
     ]
    }
   ],
   "source": [
    "for gummi in sorted_gummis_list[:5]:\n",
    "    print(gummi[0])"
   ],
   "metadata": {
    "collapsed": false
   }
  },
  {
   "cell_type": "markdown",
   "source": [
    "### Analiza gumisiów z uwzględnieniem zależności między nimi"
   ],
   "metadata": {
    "collapsed": false
   }
  },
  {
   "cell_type": "markdown",
   "source": [
    "Ponieważ ostatecznie zależy nam na wyborze gumisiów, które będą łącznie dawać najlepsze zasięgi w ramach promocji produktu P2, warto przy wyborze grupy gumisiów postarać się uniknąć takiej sytuacji, że 2 wybrane gumisie będą dawały takie same zasięgi u tych samych potencjalnych klientów. Warto, aby obszary działań"
   ],
   "metadata": {
    "collapsed": false
   }
  },
  {
   "cell_type": "code",
   "execution_count": 285,
   "outputs": [],
   "source": [],
   "metadata": {
    "collapsed": false
   }
  }
 ],
 "metadata": {
  "kernelspec": {
   "display_name": "Python 3",
   "language": "python",
   "name": "python3"
  },
  "language_info": {
   "codemirror_mode": {
    "name": "ipython",
    "version": 2
   },
   "file_extension": ".py",
   "mimetype": "text/x-python",
   "name": "python",
   "nbconvert_exporter": "python",
   "pygments_lexer": "ipython2",
   "version": "2.7.6"
  }
 },
 "nbformat": 4,
 "nbformat_minor": 0
}
